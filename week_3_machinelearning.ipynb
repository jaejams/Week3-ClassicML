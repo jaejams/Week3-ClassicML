{
  "cells": [
    {
      "cell_type": "markdown",
      "metadata": {
        "id": "view-in-github",
        "colab_type": "text"
      },
      "source": [
        "<a href=\"https://colab.research.google.com/github/jaejams/Week3-ClassicML/blob/assignment/week_3_machinelearning.ipynb\" target=\"_parent\"><img src=\"https://colab.research.google.com/assets/colab-badge.svg\" alt=\"Open In Colab\"/></a>"
      ]
    },
    {
      "cell_type": "code",
      "source": [
        "from google.colab import drive\n",
        "drive.mount('/content/drive')"
      ],
      "metadata": {
        "colab": {
          "base_uri": "https://localhost:8080/"
        },
        "id": "ywb8NifF9XN3",
        "outputId": "02574e3b-b411-4a94-d624-1abe3bcb3e45"
      },
      "execution_count": null,
      "outputs": [
        {
          "output_type": "stream",
          "name": "stdout",
          "text": [
            "Drive already mounted at /content/drive; to attempt to forcibly remount, call drive.mount(\"/content/drive\", force_remount=True).\n"
          ]
        }
      ]
    },
    {
      "cell_type": "markdown",
      "metadata": {
        "id": "q5CvOjjrL9gw"
      },
      "source": [
        "<center><h1> Introduction to Audio Classification with Machine Learning Models </h1></center>\n",
        "\n",
        "\n",
        "\n",
        "### Purpose\n",
        "This notebook serves as an introduction to working with audio data for classification problems; it is meant as a learning resource rather than a demonstration of the state-of-the-art. The techniques mentioned in this notebook apply not only to classification problems, but to regression problems and problems dealing with other types of input data as well. I provide an introduction to a few key machine learning models and the logic in choosing their hyperparameters. These objectives are framed by the task of recognizing emotion from snippets of speech audio.\n",
        "\n",
        " Training data should be used strictly for training a model, validation data strictly for tuning a model, and test data strictly to evaluate a model once it is tuned - a model should never be tuned to perform better on test data.\n",
        "\n",
        "\n",
        "\n",
        "\n",
        "\n",
        "Classic machine learning models such as Support Vector Machines (SVM), k Nearest Neighbours (kNN), and Random Forests have distinct advantages to deep neural networks in many tasks."
      ]
    },
    {
      "cell_type": "markdown",
      "metadata": {
        "id": "QQsTfGREL9g1"
      },
      "source": [
        "<!--TABLE OF CONTENTS-->\n",
        "\n",
        "\n",
        "# Table of Contents\n",
        "  - [Intro: Speech Emotion Recognition on the RAVDESS dataset](#Intro:-Speech-Emotion-Recognition-on-the-RAVDESS-dataset)\n",
        "  - [Machine Learning Process Overview](#Machine-Learning-Process-Overview)\n",
        "  - [Feature Extraction](#Feature-Extraction)\n",
        "    - [Load the Dataset and Compute Features](#Load-the-Dataset-and-Compute-Features)\n",
        "    - [Feature Scaling](#Feature-Scaling)\n",
        "  - [Classical Machine Learning Models](#Classical-Machine-Learning-Models)\n",
        "    - [Training: The 80/20 Split and Validation](#Training:-The-80/20-Split-and-Validation)\n",
        "    - [Comparing Models](#Comparing-Models)\n",
        "    - [The Support Vector Machine Classifier](#The-Support-Vector-Machine-Classifier)\n",
        "    - [k Nearest Neighbours](#k-Nearest-Neighbours)\n",
        "    - [Random Forests](#Random-Forests)\n",
        "\n"
      ]
    },
    {
      "cell_type": "markdown",
      "metadata": {
        "pycharm": {
          "name": "#%% md\n"
        },
        "id": "hZUcbr4PL9g2"
      },
      "source": [
        "## Intro: Speech Emotion Recognition on the RAVDESS dataset\n",
        "In this notebook we explore the most common machine learning models, specifically those available off the shelf in scikit-learn.\n",
        "\n",
        "I'm going to use the RAVDESS dataset (Ryerson Audio-Visual Database of Emotional Speech and Song dataset), created by Steven Livingstone and Frank Russo of Ryerson University. <br>\n",
        "[Details of the RAVDESS dataset](https://smartlaboratory.org/ravdess/) <br>\n",
        "[Download the dataset used in this notebook](https://zenodo.org/record/1188976) <br> Scroll half-way down the page and find \"Audio_Speech_Actors_01-24\"<br>\n",
        "\n",
        "We're going to use the audio-only speech portion of the RAVDESS dataset, ~200MB.\n",
        "Audio is sourced from 24 actors (12 male, 12 female) repeating two sentences with\n",
        "a variety of emotions and intensity. We get 1440 speech files (24 actors * 60 recordings per actor). Each audio sample has been rated  by a human 10 times for emotional quality.\n",
        "\n",
        "## Machine Learning Process Overview\n",
        "1. Feature Engineering: Choose and define the properties which our model will use to evaluate the audio files. <br>\n",
        "2. Feature Extraction: Compute the features for each audio file and build a feature matrix representing all audio files. <br>\n",
        "3. Model exploration: Test candidate models that make sense for the properies of the dataset\n",
        "4. Training the MLP Classifier model: Choose and optimize the properties of our model on validation data - hyperparameters and architechture.  <br>\n",
        "5. Evaluate our model's performance: Evaluate our model's accuracy on validation data and score it against test data which it has never seen in training.<br>\n",
        "6. Explore options for improving our model: Is our dataset the right size? Is our model too complex or too simple? <br>\n"
      ]
    },
    {
      "cell_type": "code",
      "source": [
        "#importing the required libraries\n",
        "\n",
        "import matplotlib.pyplot as plt\n",
        "import pandas as pd\n",
        "import numpy as np\n",
        "import librosa.display\n",
        "import soundfile\n",
        "import os\n",
        "# matplotlib complains about the behaviour of librosa.display, so we'll ignore those warnings:\n",
        "import warnings; warnings.filterwarnings('ignore')"
      ],
      "metadata": {
        "id": "b2IL0uT19_3A"
      },
      "execution_count": 3,
      "outputs": []
    },
    {
      "cell_type": "markdown",
      "metadata": {
        "pycharm": {
          "name": "#%% md\n"
        },
        "id": "eu8VPhDmL9hC"
      },
      "source": [
        "## Feature Extraction\n",
        "We're going to take full advantage of librosa, a Python library enabling audio analysis and feature extraction.\n",
        "Librosa abstracts away all the math and most of the details of mel spectrorgams, chromagrams, and MFCC.\n",
        "Although closely related, we're going to take the Mel Spectrogram, MFCC, and chromagrams of each audio file as separate features to try\n",
        "and have bit more discriminatory power between samples. <br>\n",
        "\n",
        "Let's build our feature extraction functions to get a chromagram, a mel spectorgram, and MFC coefficients for each of our audio files. Because the chromagram, mel spectrogram and MFCCs are calculated on audio frames produced by STFT, we're going to get a matrix back from each function, so we'll take the mean of those matrices to produce a single feature array for each feature and each audio sample, i.e. 3 feature arrays per audio sample.\n",
        "\n",
        "**Chromagram**: Will produce 12 features; One for each of 12 pitch classes\n",
        "\n",
        "**Mel Spectrogram**: Will produce 128 features; We've defined the number of mel frequency bands at n_mels=128\n",
        "\n",
        "**MFCC**: Will produce 40 MFCCs; I've set the number of coefficients to return at n_mfcc=40 which I found to work well"
      ]
    },
    {
      "cell_type": "code",
      "execution_count": 4,
      "metadata": {
        "pycharm": {
          "name": "#%%\n"
        },
        "id": "qTe93WYTL9hD"
      },
      "outputs": [],
      "source": [
        "\n",
        "\n",
        "def feature_chromagram(waveform, sample_rate):\n",
        "    # STFT computed here explicitly; mel spectrogram and MFCC functions do this under the hood\n",
        "    stft_spectrogram=np.abs(librosa.stft(waveform))\n",
        "    # Produce the chromagram for all STFT frames and get the mean of each column of the resulting matrix to create a feature array\n",
        "    chromagram=np.mean(librosa.feature.chroma_stft(S=stft_spectrogram, sr=sample_rate).T,axis=0)\n",
        "    return chromagram\n",
        "\n",
        "def feature_melspectrogram(waveform, sample_rate):\n",
        "    # Produce the mel spectrogram for all STFT frames and get the mean of each column of the resulting matrix to create a feature array\n",
        "    # Using 8khz as upper frequency bound should be enough for most speech classification tasks\n",
        "    melspectrogram=np.mean(librosa.feature.melspectrogram(y=waveform, sr=sample_rate, n_mels=128, fmax=8000).T,axis=0)\n",
        "    return melspectrogram\n",
        "\n",
        "def feature_mfcc(waveform, sample_rate):\n",
        "    # Compute the MFCCs for all STFT frames and get the mean of each column of the resulting matrix to create a feature array\n",
        "    # 40 filterbanks = 40 coefficients\n",
        "    mfc_coefficients=np.mean(librosa.feature.mfcc(y=waveform, sr=sample_rate, n_mfcc=40).T, axis=0)\n",
        "    return mfc_coefficients"
      ]
    },
    {
      "cell_type": "markdown",
      "metadata": {
        "pycharm": {
          "name": "#%% md\n"
        },
        "id": "xjFXIfC2L9hD"
      },
      "source": [
        "We're going to wrap our feature extraction functions so we only have to load each audio file once. After extracting our 3 audio features as NumPy arrays representing a time series, we're going to\n",
        "stack them horizontally to create a single feature array."
      ]
    },
    {
      "cell_type": "code",
      "source": [
        "def preprocess_waveform(waveform):\n",
        "    # If the waveform has 2 channels (stereo), convert it to mono # esp for your data!!\n",
        "    if len(waveform.shape) > 1:\n",
        "        waveform = librosa.to_mono(waveform)\n",
        "    return waveform"
      ],
      "metadata": {
        "id": "f-UK-s6Rhl1F"
      },
      "execution_count": 21,
      "outputs": []
    },
    {
      "cell_type": "code",
      "execution_count": 20,
      "metadata": {
        "pycharm": {
          "name": "#%%\n"
        },
        "id": "xPMw9ijJL9hE"
      },
      "outputs": [],
      "source": [
        "def get_features(file):\n",
        "    # load an individual soundfile\n",
        "     with soundfile.SoundFile(file) as audio:\n",
        "        waveform = audio.read(dtype=\"float32\")\n",
        "        sample_rate = audio.samplerate\n",
        "        # make sure the file is mono channel audio\n",
        "        waveform = preprocess_waveform(waveform)\n",
        "        # compute features of soundfile\n",
        "        chromagram = feature_chromagram(waveform, sample_rate)\n",
        "        melspectrogram = feature_melspectrogram(waveform, sample_rate)\n",
        "        mfc_coefficients = feature_mfcc(waveform, sample_rate)\n",
        "\n",
        "        feature_matrix=np.array([])\n",
        "\n",
        "        # Check the shape of chromagram\n",
        "        if chromagram.ndim > 1 and chromagram.shape[1] > 1:\n",
        "            #print(f\"Returning zero vector for chromagram size: {file} (shape: {chromagram.shape})\")\n",
        "            chromagram = np.zeros((12,))  # Return a zero vector of size (12,)\n",
        "\n",
        "        # Check the shape of mel spectrogram\n",
        "        if melspectrogram.ndim > 1 and melspectrogram.shape[1] > 1:\n",
        "            #print(f\"Returning zero vector for mel spectrogram size: {file} (shape: {melspectrogram.shape})\")\n",
        "            melspectrogram = np.zeros((128,))  # Return a zero vector of size (128,)\n",
        "\n",
        "        # Check the shape of MFCC coefficients\n",
        "        if mfc_coefficients.ndim > 1 and mfc_coefficients.shape[1] > 1:\n",
        "            #print(f\"Returning zero vector for MFCC size: {file} (shape: {mfc_coefficients.shape})\")\n",
        "            mfc_coefficients = np.zeros((40,))  # Return a zero vector of size (40,)\n",
        "\n",
        "        # use np.hstack to stack our feature arrays horizontally to create a feature matrix\n",
        "        feature_matrix = np.hstack((chromagram, melspectrogram, mfc_coefficients))\n",
        "\n",
        "        return feature_matrix"
      ]
    },
    {
      "cell_type": "markdown",
      "metadata": {
        "pycharm": {
          "name": "#%% md\n"
        },
        "id": "c-C6g6psL9hE"
      },
      "source": [
        "### Load the Dataset and Compute Features\n",
        "We have to understand the labelling of the RAVDESS dataset to find the ground truth emotion for each sample.\n",
        "Each file is labelled with 7 numbers delimited by a \"-\".\n",
        "Most of the numbers describe metadata about the audio samples such as their format (video and/or audio),\n",
        "whether the audio is a song or statement, which of two statements is being read and by which actor.\n",
        "\n",
        "The third and fourth numbers pertain to the emotional quality of each sample. The third number is in the range of 1-8 with each number representing an emotion.\n",
        "The fourth number is either 1 or 2, representing normal (1) or strong (2) emotional intensity.\n",
        "\n",
        "We're going to define a dictionary based on the third number (emotion) and assign an emotion to each number as specified by the RAVDESS dataset:"
      ]
    },
    {
      "cell_type": "code",
      "execution_count": 5,
      "metadata": {
        "pycharm": {
          "name": "#%%\n"
        },
        "id": "z-Pu_fB7L9hF"
      },
      "outputs": [],
      "source": [
        "#Emotions in the RAVDESS dataset\n",
        "emotions_dict ={\n",
        "  '01':'neutral',\n",
        "  '02':'calm',\n",
        "  '03':'happy',\n",
        "  '04':'sad',\n",
        "  '05':'angry',\n",
        "  '06':'fearful',\n",
        "  '07':'disgust',\n",
        "  '08':'surprised'\n",
        "}"
      ]
    },
    {
      "cell_type": "markdown",
      "metadata": {
        "pycharm": {
          "name": "#%% md\n"
        },
        "id": "pTlsUOwXL9hF"
      },
      "source": [
        "Finally, let's load our entire dataset and compute the features of each audio file:"
      ]
    },
    {
      "cell_type": "code",
      "execution_count": 6,
      "metadata": {
        "pycharm": {
          "name": "#%%\n"
        },
        "id": "mAh2AYMpL9hF"
      },
      "outputs": [],
      "source": [
        "import os, glob\n",
        "\n",
        "def load_data():\n",
        "    X,y=[],[]\n",
        "    count = 0\n",
        "    for file in glob.glob(\"Audio Data/*/*.wav\"):\n",
        "        file_name=os.path.basename(file)\n",
        "        emotion=emotions_dict[file_name.split(\"-\")[2]] #extract emotions from the filename\n",
        "        features = get_features(file) #extract features\n",
        "        X.append(features) #extract features using get_features function #store as x, y variables\n",
        "        y.append(emotion) #extract labels from file\n",
        "        count += 1\n",
        "        # '\\r' + end='' results in printing over same line\n",
        "        print('\\r' + f' Processed {count}/{1440} audio samples',end=' ')\n",
        "    # Return arrays to plug into sklearn's cross-validation algorithms\n",
        "    return np.array(X), np.array(y)"
      ]
    },
    {
      "cell_type": "code",
      "source": [
        "def load_my_data(): #writing another function to load the data from my recordings only\n",
        "    X,y=[],[]\n",
        "    count = 0\n",
        "    for file in glob.glob(\"My Audio Data/*/*.wav\"): #please notice the different file path name.\n",
        "        file_name=os.path.basename(file)\n",
        "        emotion=emotions_dict[file_name.split(\"-\")[2]] #extract emotions from the filename\n",
        "        features = get_features(file) #extract features\n",
        "        X.append(features) #extract features using get_features function #store as x, y variables\n",
        "        y.append(emotion) #extract labels from file\n",
        "        count += 1\n",
        "        # '\\r' + end='' results in printing over same line\n",
        "        print('\\r' + f' Processed {count}/{16} audio samples',end=' ')\n",
        "    # Return arrays to plug into sklearn's cross-validation algorithms\n",
        "    return np.array(X), np.array(y)"
      ],
      "metadata": {
        "id": "Y3B7fMUALIcv"
      },
      "execution_count": 7,
      "outputs": []
    },
    {
      "cell_type": "markdown",
      "metadata": {
        "pycharm": {
          "name": "#%% md\n"
        },
        "id": "3Cf8q4K5L9hG"
      },
      "source": [
        "Compute the feature matrix and read the emotion labels for the entire dataset.\n",
        "Note that our regressor (independent/explanatory variable), usually denoted X, is named 'features', and our regressand (dependent variable), usually denoted y, is named 'emotions'."
      ]
    },
    {
      "cell_type": "code",
      "execution_count": 22,
      "metadata": {
        "pycharm": {
          "name": "#%%\n"
        },
        "id": "XeKE591aL9hG",
        "outputId": "e48ddbff-dc2c-457a-b5cc-8665619c2864",
        "colab": {
          "base_uri": "https://localhost:8080/"
        },
        "collapsed": true
      },
      "outputs": [
        {
          "output_type": "stream",
          "name": "stdout",
          "text": [
            " Processed 1439/1440 audio samples "
          ]
        }
      ],
      "source": [
        "features, emotions = load_data()"
      ]
    },
    {
      "cell_type": "code",
      "source": [
        "features_mine, emotions_mine = load_my_data()"
      ],
      "metadata": {
        "colab": {
          "base_uri": "https://localhost:8080/"
        },
        "id": "eCsngyboLjrg",
        "outputId": "08490a4b-87e6-484b-c919-1e029c109aae"
      },
      "execution_count": 23,
      "outputs": [
        {
          "output_type": "stream",
          "name": "stdout",
          "text": [
            " Processed 16/16 audio samples "
          ]
        }
      ]
    },
    {
      "cell_type": "markdown",
      "metadata": {
        "pycharm": {
          "name": "#%% md\n"
        },
        "id": "RVUa7RAuL9hG"
      },
      "source": [
        "Let's see what the features we extracted look like, **also for saving both the features matrix as well as emotions array, we need to convert them to pandas dataframe.**"
      ]
    },
    {
      "cell_type": "code",
      "execution_count": 24,
      "metadata": {
        "pycharm": {
          "name": "#%%\n"
        },
        "id": "mzxX583yL9hG",
        "outputId": "f6d74e14-44d1-42e4-e313-a2a07bb9ff26",
        "colab": {
          "base_uri": "https://localhost:8080/",
          "height": 496
        }
      },
      "outputs": [
        {
          "output_type": "stream",
          "name": "stdout",
          "text": [
            "\n",
            "Audio samples represented: 1439\n",
            "Numerical features extracted per sample: 180\n"
          ]
        },
        {
          "output_type": "execute_result",
          "data": {
            "text/plain": [
              "           0         1         2         3         4         5         6    \\\n",
              "0     0.762872  0.786685  0.769217  0.768762  0.773605  0.766615  0.770437   \n",
              "1     0.747417  0.781693  0.774763  0.755513  0.770826  0.783455  0.754270   \n",
              "2     0.767132  0.788347  0.785653  0.786579  0.777644  0.755638  0.761176   \n",
              "3     0.765556  0.760809  0.754814  0.773621  0.797597  0.785697  0.754200   \n",
              "4     0.706621  0.751378  0.765777  0.754597  0.759112  0.770332  0.755594   \n",
              "...        ...       ...       ...       ...       ...       ...       ...   \n",
              "1434  0.633462  0.580423  0.539717  0.541983  0.569329  0.576741  0.595737   \n",
              "1435  0.667961  0.637937  0.599195  0.591554  0.581671  0.556208  0.566106   \n",
              "1436  0.640290  0.588677  0.548105  0.532067  0.551831  0.579697  0.555725   \n",
              "1437  0.612517  0.594626  0.586922  0.566910  0.584284  0.618568  0.632370   \n",
              "1438  0.682341  0.621409  0.606023  0.590485  0.575120  0.597221  0.615633   \n",
              "\n",
              "           7         8         9    ...       170       171       172  \\\n",
              "0     0.764894  0.780340  0.761150  ...  0.457081 -1.399109 -2.926856   \n",
              "1     0.748580  0.766922  0.768814  ...  0.275460 -2.521470 -2.987673   \n",
              "2     0.752333  0.774452  0.743741  ... -0.002119 -0.909152 -3.045955   \n",
              "3     0.761343  0.742356  0.725235  ... -0.403806 -1.329651 -2.513404   \n",
              "4     0.741855  0.750050  0.755684  ...  0.206463 -2.188581 -2.835501   \n",
              "...        ...       ...       ...  ...       ...       ...       ...   \n",
              "1434  0.595334  0.587991  0.582093  ... -2.279652 -0.956125  1.618874   \n",
              "1435  0.563750  0.556274  0.562026  ...  1.828094  2.644069  1.914414   \n",
              "1436  0.533518  0.550872  0.563250  ... -0.276459  0.734496  0.793300   \n",
              "1437  0.574341  0.554251  0.568200  ...  1.947711  3.540176  0.957979   \n",
              "1438  0.617779  0.630261  0.629224  ...  2.187292  1.822321  0.664088   \n",
              "\n",
              "           173       174       175       176       177       178       179  \n",
              "0     0.013957 -0.490734 -0.570906  0.040399 -1.207217 -1.594982 -1.436487  \n",
              "1     0.409735 -0.484184 -1.398391  0.255204 -0.984978 -2.093061 -1.040791  \n",
              "2    -0.373294 -0.849145 -0.922105 -0.170320 -1.144423 -1.725613 -1.450560  \n",
              "3    -0.190276 -0.645949 -0.553919  0.459299 -1.580085 -1.647682 -1.509511  \n",
              "4     0.463746 -1.019167 -1.411441  0.350433 -1.519892 -1.250112 -0.613852  \n",
              "...        ...       ...       ...       ...       ...       ...       ...  \n",
              "1434  3.121077  3.300186  0.288353  0.033574 -0.001822 -0.012087  1.695895  \n",
              "1435  2.924835  2.725102  1.226836 -0.558418  0.307047 -0.687501  0.377813  \n",
              "1436  2.693131  1.434806  0.516675 -0.040329  1.729418 -0.209399  0.046916  \n",
              "1437  1.761636 -0.212035  0.591056 -0.749358  0.786245 -0.634603  0.220848  \n",
              "1438  1.707960  0.972008  1.337858  1.225059  0.974942  0.147023  1.183601  \n",
              "\n",
              "[1439 rows x 180 columns]"
            ],
            "text/html": [
              "<div>\n",
              "<style scoped>\n",
              "    .dataframe tbody tr th:only-of-type {\n",
              "        vertical-align: middle;\n",
              "    }\n",
              "\n",
              "    .dataframe tbody tr th {\n",
              "        vertical-align: top;\n",
              "    }\n",
              "\n",
              "    .dataframe thead th {\n",
              "        text-align: right;\n",
              "    }\n",
              "</style>\n",
              "<table border=\"1\" class=\"dataframe\">\n",
              "  <thead>\n",
              "    <tr style=\"text-align: right;\">\n",
              "      <th></th>\n",
              "      <th>0</th>\n",
              "      <th>1</th>\n",
              "      <th>2</th>\n",
              "      <th>3</th>\n",
              "      <th>4</th>\n",
              "      <th>5</th>\n",
              "      <th>6</th>\n",
              "      <th>7</th>\n",
              "      <th>8</th>\n",
              "      <th>9</th>\n",
              "      <th>...</th>\n",
              "      <th>170</th>\n",
              "      <th>171</th>\n",
              "      <th>172</th>\n",
              "      <th>173</th>\n",
              "      <th>174</th>\n",
              "      <th>175</th>\n",
              "      <th>176</th>\n",
              "      <th>177</th>\n",
              "      <th>178</th>\n",
              "      <th>179</th>\n",
              "    </tr>\n",
              "  </thead>\n",
              "  <tbody>\n",
              "    <tr>\n",
              "      <th>0</th>\n",
              "      <td>0.762872</td>\n",
              "      <td>0.786685</td>\n",
              "      <td>0.769217</td>\n",
              "      <td>0.768762</td>\n",
              "      <td>0.773605</td>\n",
              "      <td>0.766615</td>\n",
              "      <td>0.770437</td>\n",
              "      <td>0.764894</td>\n",
              "      <td>0.780340</td>\n",
              "      <td>0.761150</td>\n",
              "      <td>...</td>\n",
              "      <td>0.457081</td>\n",
              "      <td>-1.399109</td>\n",
              "      <td>-2.926856</td>\n",
              "      <td>0.013957</td>\n",
              "      <td>-0.490734</td>\n",
              "      <td>-0.570906</td>\n",
              "      <td>0.040399</td>\n",
              "      <td>-1.207217</td>\n",
              "      <td>-1.594982</td>\n",
              "      <td>-1.436487</td>\n",
              "    </tr>\n",
              "    <tr>\n",
              "      <th>1</th>\n",
              "      <td>0.747417</td>\n",
              "      <td>0.781693</td>\n",
              "      <td>0.774763</td>\n",
              "      <td>0.755513</td>\n",
              "      <td>0.770826</td>\n",
              "      <td>0.783455</td>\n",
              "      <td>0.754270</td>\n",
              "      <td>0.748580</td>\n",
              "      <td>0.766922</td>\n",
              "      <td>0.768814</td>\n",
              "      <td>...</td>\n",
              "      <td>0.275460</td>\n",
              "      <td>-2.521470</td>\n",
              "      <td>-2.987673</td>\n",
              "      <td>0.409735</td>\n",
              "      <td>-0.484184</td>\n",
              "      <td>-1.398391</td>\n",
              "      <td>0.255204</td>\n",
              "      <td>-0.984978</td>\n",
              "      <td>-2.093061</td>\n",
              "      <td>-1.040791</td>\n",
              "    </tr>\n",
              "    <tr>\n",
              "      <th>2</th>\n",
              "      <td>0.767132</td>\n",
              "      <td>0.788347</td>\n",
              "      <td>0.785653</td>\n",
              "      <td>0.786579</td>\n",
              "      <td>0.777644</td>\n",
              "      <td>0.755638</td>\n",
              "      <td>0.761176</td>\n",
              "      <td>0.752333</td>\n",
              "      <td>0.774452</td>\n",
              "      <td>0.743741</td>\n",
              "      <td>...</td>\n",
              "      <td>-0.002119</td>\n",
              "      <td>-0.909152</td>\n",
              "      <td>-3.045955</td>\n",
              "      <td>-0.373294</td>\n",
              "      <td>-0.849145</td>\n",
              "      <td>-0.922105</td>\n",
              "      <td>-0.170320</td>\n",
              "      <td>-1.144423</td>\n",
              "      <td>-1.725613</td>\n",
              "      <td>-1.450560</td>\n",
              "    </tr>\n",
              "    <tr>\n",
              "      <th>3</th>\n",
              "      <td>0.765556</td>\n",
              "      <td>0.760809</td>\n",
              "      <td>0.754814</td>\n",
              "      <td>0.773621</td>\n",
              "      <td>0.797597</td>\n",
              "      <td>0.785697</td>\n",
              "      <td>0.754200</td>\n",
              "      <td>0.761343</td>\n",
              "      <td>0.742356</td>\n",
              "      <td>0.725235</td>\n",
              "      <td>...</td>\n",
              "      <td>-0.403806</td>\n",
              "      <td>-1.329651</td>\n",
              "      <td>-2.513404</td>\n",
              "      <td>-0.190276</td>\n",
              "      <td>-0.645949</td>\n",
              "      <td>-0.553919</td>\n",
              "      <td>0.459299</td>\n",
              "      <td>-1.580085</td>\n",
              "      <td>-1.647682</td>\n",
              "      <td>-1.509511</td>\n",
              "    </tr>\n",
              "    <tr>\n",
              "      <th>4</th>\n",
              "      <td>0.706621</td>\n",
              "      <td>0.751378</td>\n",
              "      <td>0.765777</td>\n",
              "      <td>0.754597</td>\n",
              "      <td>0.759112</td>\n",
              "      <td>0.770332</td>\n",
              "      <td>0.755594</td>\n",
              "      <td>0.741855</td>\n",
              "      <td>0.750050</td>\n",
              "      <td>0.755684</td>\n",
              "      <td>...</td>\n",
              "      <td>0.206463</td>\n",
              "      <td>-2.188581</td>\n",
              "      <td>-2.835501</td>\n",
              "      <td>0.463746</td>\n",
              "      <td>-1.019167</td>\n",
              "      <td>-1.411441</td>\n",
              "      <td>0.350433</td>\n",
              "      <td>-1.519892</td>\n",
              "      <td>-1.250112</td>\n",
              "      <td>-0.613852</td>\n",
              "    </tr>\n",
              "    <tr>\n",
              "      <th>...</th>\n",
              "      <td>...</td>\n",
              "      <td>...</td>\n",
              "      <td>...</td>\n",
              "      <td>...</td>\n",
              "      <td>...</td>\n",
              "      <td>...</td>\n",
              "      <td>...</td>\n",
              "      <td>...</td>\n",
              "      <td>...</td>\n",
              "      <td>...</td>\n",
              "      <td>...</td>\n",
              "      <td>...</td>\n",
              "      <td>...</td>\n",
              "      <td>...</td>\n",
              "      <td>...</td>\n",
              "      <td>...</td>\n",
              "      <td>...</td>\n",
              "      <td>...</td>\n",
              "      <td>...</td>\n",
              "      <td>...</td>\n",
              "      <td>...</td>\n",
              "    </tr>\n",
              "    <tr>\n",
              "      <th>1434</th>\n",
              "      <td>0.633462</td>\n",
              "      <td>0.580423</td>\n",
              "      <td>0.539717</td>\n",
              "      <td>0.541983</td>\n",
              "      <td>0.569329</td>\n",
              "      <td>0.576741</td>\n",
              "      <td>0.595737</td>\n",
              "      <td>0.595334</td>\n",
              "      <td>0.587991</td>\n",
              "      <td>0.582093</td>\n",
              "      <td>...</td>\n",
              "      <td>-2.279652</td>\n",
              "      <td>-0.956125</td>\n",
              "      <td>1.618874</td>\n",
              "      <td>3.121077</td>\n",
              "      <td>3.300186</td>\n",
              "      <td>0.288353</td>\n",
              "      <td>0.033574</td>\n",
              "      <td>-0.001822</td>\n",
              "      <td>-0.012087</td>\n",
              "      <td>1.695895</td>\n",
              "    </tr>\n",
              "    <tr>\n",
              "      <th>1435</th>\n",
              "      <td>0.667961</td>\n",
              "      <td>0.637937</td>\n",
              "      <td>0.599195</td>\n",
              "      <td>0.591554</td>\n",
              "      <td>0.581671</td>\n",
              "      <td>0.556208</td>\n",
              "      <td>0.566106</td>\n",
              "      <td>0.563750</td>\n",
              "      <td>0.556274</td>\n",
              "      <td>0.562026</td>\n",
              "      <td>...</td>\n",
              "      <td>1.828094</td>\n",
              "      <td>2.644069</td>\n",
              "      <td>1.914414</td>\n",
              "      <td>2.924835</td>\n",
              "      <td>2.725102</td>\n",
              "      <td>1.226836</td>\n",
              "      <td>-0.558418</td>\n",
              "      <td>0.307047</td>\n",
              "      <td>-0.687501</td>\n",
              "      <td>0.377813</td>\n",
              "    </tr>\n",
              "    <tr>\n",
              "      <th>1436</th>\n",
              "      <td>0.640290</td>\n",
              "      <td>0.588677</td>\n",
              "      <td>0.548105</td>\n",
              "      <td>0.532067</td>\n",
              "      <td>0.551831</td>\n",
              "      <td>0.579697</td>\n",
              "      <td>0.555725</td>\n",
              "      <td>0.533518</td>\n",
              "      <td>0.550872</td>\n",
              "      <td>0.563250</td>\n",
              "      <td>...</td>\n",
              "      <td>-0.276459</td>\n",
              "      <td>0.734496</td>\n",
              "      <td>0.793300</td>\n",
              "      <td>2.693131</td>\n",
              "      <td>1.434806</td>\n",
              "      <td>0.516675</td>\n",
              "      <td>-0.040329</td>\n",
              "      <td>1.729418</td>\n",
              "      <td>-0.209399</td>\n",
              "      <td>0.046916</td>\n",
              "    </tr>\n",
              "    <tr>\n",
              "      <th>1437</th>\n",
              "      <td>0.612517</td>\n",
              "      <td>0.594626</td>\n",
              "      <td>0.586922</td>\n",
              "      <td>0.566910</td>\n",
              "      <td>0.584284</td>\n",
              "      <td>0.618568</td>\n",
              "      <td>0.632370</td>\n",
              "      <td>0.574341</td>\n",
              "      <td>0.554251</td>\n",
              "      <td>0.568200</td>\n",
              "      <td>...</td>\n",
              "      <td>1.947711</td>\n",
              "      <td>3.540176</td>\n",
              "      <td>0.957979</td>\n",
              "      <td>1.761636</td>\n",
              "      <td>-0.212035</td>\n",
              "      <td>0.591056</td>\n",
              "      <td>-0.749358</td>\n",
              "      <td>0.786245</td>\n",
              "      <td>-0.634603</td>\n",
              "      <td>0.220848</td>\n",
              "    </tr>\n",
              "    <tr>\n",
              "      <th>1438</th>\n",
              "      <td>0.682341</td>\n",
              "      <td>0.621409</td>\n",
              "      <td>0.606023</td>\n",
              "      <td>0.590485</td>\n",
              "      <td>0.575120</td>\n",
              "      <td>0.597221</td>\n",
              "      <td>0.615633</td>\n",
              "      <td>0.617779</td>\n",
              "      <td>0.630261</td>\n",
              "      <td>0.629224</td>\n",
              "      <td>...</td>\n",
              "      <td>2.187292</td>\n",
              "      <td>1.822321</td>\n",
              "      <td>0.664088</td>\n",
              "      <td>1.707960</td>\n",
              "      <td>0.972008</td>\n",
              "      <td>1.337858</td>\n",
              "      <td>1.225059</td>\n",
              "      <td>0.974942</td>\n",
              "      <td>0.147023</td>\n",
              "      <td>1.183601</td>\n",
              "    </tr>\n",
              "  </tbody>\n",
              "</table>\n",
              "<p>1439 rows × 180 columns</p>\n",
              "</div>"
            ]
          },
          "metadata": {},
          "execution_count": 24
        }
      ],
      "source": [
        "print(f'\\nAudio samples represented: {features.shape[0]}')\n",
        "print(f'Numerical features extracted per sample: {features.shape[1]}')\n",
        "features_df_RAVDESS = pd.DataFrame(features) # make it pretty for display\n",
        "\n",
        "\n",
        "#making dataframe for emotions as well\n",
        "emotions_df_RAVDESS = pd.DataFrame(emotions) # make it pretty for display\n",
        "\n",
        "features_df_RAVDESS"
      ]
    },
    {
      "cell_type": "code",
      "source": [
        "print(f'\\nAudio samples represented: {features_mine.shape[0]}')\n",
        "print(f'Numerical features extracted per sample: {features_mine.shape[1]}')\n",
        "features_df_mine = pd.DataFrame(features_mine) # make it pretty for display\n",
        "\n",
        "\n",
        "#making dataframe for emotions as well\n",
        "emotions_df_mine = pd.DataFrame(emotions_mine) # make it pretty for display\n",
        "\n",
        "features_df_mine #loading a dataframe, a feature matrix showing a combination of a chromagram, a mel spectorgram, and MFC coefficients for each audio file."
      ],
      "metadata": {
        "colab": {
          "base_uri": "https://localhost:8080/",
          "height": 653
        },
        "id": "9byO91B7Waqa",
        "outputId": "1365475a-aa13-47b7-a1f4-5110fa2032fe"
      },
      "execution_count": 25,
      "outputs": [
        {
          "output_type": "stream",
          "name": "stdout",
          "text": [
            "\n",
            "Audio samples represented: 16\n",
            "Numerical features extracted per sample: 180\n"
          ]
        },
        {
          "output_type": "execute_result",
          "data": {
            "text/plain": [
              "         0         1         2         3         4         5         6    \\\n",
              "0   0.532068  0.505171  0.540265  0.560970  0.572051  0.601194  0.599162   \n",
              "1   0.504179  0.502219  0.572516  0.586335  0.583473  0.616068  0.608706   \n",
              "2   0.507732  0.523820  0.542378  0.531464  0.558567  0.587929  0.599318   \n",
              "3   0.569297  0.537319  0.569763  0.573549  0.531171  0.506642  0.500459   \n",
              "4   0.562050  0.540595  0.574811  0.623219  0.664499  0.704987  0.722578   \n",
              "5   0.557992  0.499071  0.552941  0.603953  0.654657  0.672274  0.668389   \n",
              "6   0.591189  0.520621  0.533002  0.608661  0.596006  0.618235  0.657527   \n",
              "7   0.547101  0.540207  0.620973  0.636411  0.601634  0.614691  0.652376   \n",
              "8   0.530831  0.528706  0.564873  0.544225  0.543501  0.575327  0.611570   \n",
              "9   0.611662  0.540496  0.554678  0.586610  0.544419  0.561324  0.600278   \n",
              "10  0.565597  0.587247  0.599050  0.614999  0.623982  0.604117  0.584023   \n",
              "11  0.582677  0.561763  0.591943  0.640955  0.648297  0.584856  0.537647   \n",
              "12  0.567928  0.555990  0.572394  0.563266  0.529604  0.523419  0.549318   \n",
              "13  0.502641  0.470827  0.530057  0.571529  0.540431  0.528924  0.553787   \n",
              "14  0.518366  0.535983  0.584124  0.607205  0.607310  0.665378  0.725078   \n",
              "15  0.506308  0.527098  0.564962  0.590294  0.596109  0.650940  0.713545   \n",
              "\n",
              "         7         8         9    ...       170       171       172       173  \\\n",
              "0   0.589488  0.580122  0.596864  ...  0.790791  1.885117 -0.657525  1.035091   \n",
              "1   0.556364  0.537526  0.610089  ... -1.894827  1.245437 -1.539583  0.928111   \n",
              "2   0.617634  0.638433  0.683848  ...  1.304363  3.720316  0.960145  2.151932   \n",
              "3   0.541232  0.566349  0.604368  ...  1.221021  0.971149 -0.977764  2.752212   \n",
              "4   0.700190  0.738155  0.707143  ... -0.853887  0.410849  0.822144  1.057340   \n",
              "5   0.653258  0.702829  0.680175  ...  0.877459  1.367134 -0.376386 -0.366801   \n",
              "6   0.654322  0.597891  0.578309  ... -1.276366  1.172940 -1.091978 -1.056499   \n",
              "7   0.676398  0.677216  0.677979  ... -0.317630  1.545617  0.051841 -0.733314   \n",
              "8   0.610007  0.601030  0.585668  ... -2.136101  0.794941 -0.088155 -0.733942   \n",
              "9   0.589857  0.564690  0.578905  ... -0.374221  0.920336 -2.001861 -2.182571   \n",
              "10  0.604700  0.639821  0.658168  ... -2.903544 -1.105743 -1.647751 -2.781253   \n",
              "11  0.543092  0.534454  0.554343  ... -1.789327 -1.212024 -2.938857 -1.570181   \n",
              "12  0.581965  0.654261  0.685294  ...  2.415414  3.602053 -0.029688 -1.558520   \n",
              "13  0.550691  0.611023  0.659433  ...  4.312638  3.256603 -0.230420  1.292277   \n",
              "14  0.755568  0.708555  0.682281  ... -0.151688  2.277251  0.399551  1.362284   \n",
              "15  0.742357  0.747425  0.634925  ...  1.900926  1.895141  2.148174  1.859027   \n",
              "\n",
              "         174       175       176       177       178       179  \n",
              "0  -2.149372 -0.585667 -0.690829  0.883835  1.111735 -1.987004  \n",
              "1  -0.982554  1.359752  0.680624  0.048172  0.471071  1.975873  \n",
              "2  -1.314522  0.535253  0.962512  1.747308  0.431270 -0.664141  \n",
              "3  -0.900777 -1.317232 -1.267177  0.926558  1.854297 -0.169858  \n",
              "4  -2.002524  0.493143  0.639181  1.221849  0.903787  0.793003  \n",
              "5  -1.081348  1.728072  2.223586  2.140059  0.615226 -0.112621  \n",
              "6  -1.426103 -0.264656  1.107791 -0.491072  0.061630  0.803908  \n",
              "7  -1.252215  1.874959 -0.194392 -1.143801  0.879638  2.633003  \n",
              "8  -2.616600 -0.899663  0.473728  0.981317 -0.394813 -1.340978  \n",
              "9  -1.261021  1.119098 -0.634531 -2.340468 -1.881102  0.855544  \n",
              "10 -1.558623  0.153344  1.683194  0.131308  0.023971  1.761706  \n",
              "11 -2.394484  1.575849  0.555646  2.266337  1.369555  1.337051  \n",
              "12 -1.933353  0.075405  0.716648 -0.649574 -1.402943 -0.815268  \n",
              "13  0.252835  1.685217  0.386318 -1.675431 -1.428864  1.636072  \n",
              "14 -1.186203 -1.227904 -0.240882  1.635089  0.160748  1.032989  \n",
              "15 -0.918489  0.044026  1.338115  0.138861 -0.699927 -0.846922  \n",
              "\n",
              "[16 rows x 180 columns]"
            ],
            "text/html": [
              "<div>\n",
              "<style scoped>\n",
              "    .dataframe tbody tr th:only-of-type {\n",
              "        vertical-align: middle;\n",
              "    }\n",
              "\n",
              "    .dataframe tbody tr th {\n",
              "        vertical-align: top;\n",
              "    }\n",
              "\n",
              "    .dataframe thead th {\n",
              "        text-align: right;\n",
              "    }\n",
              "</style>\n",
              "<table border=\"1\" class=\"dataframe\">\n",
              "  <thead>\n",
              "    <tr style=\"text-align: right;\">\n",
              "      <th></th>\n",
              "      <th>0</th>\n",
              "      <th>1</th>\n",
              "      <th>2</th>\n",
              "      <th>3</th>\n",
              "      <th>4</th>\n",
              "      <th>5</th>\n",
              "      <th>6</th>\n",
              "      <th>7</th>\n",
              "      <th>8</th>\n",
              "      <th>9</th>\n",
              "      <th>...</th>\n",
              "      <th>170</th>\n",
              "      <th>171</th>\n",
              "      <th>172</th>\n",
              "      <th>173</th>\n",
              "      <th>174</th>\n",
              "      <th>175</th>\n",
              "      <th>176</th>\n",
              "      <th>177</th>\n",
              "      <th>178</th>\n",
              "      <th>179</th>\n",
              "    </tr>\n",
              "  </thead>\n",
              "  <tbody>\n",
              "    <tr>\n",
              "      <th>0</th>\n",
              "      <td>0.532068</td>\n",
              "      <td>0.505171</td>\n",
              "      <td>0.540265</td>\n",
              "      <td>0.560970</td>\n",
              "      <td>0.572051</td>\n",
              "      <td>0.601194</td>\n",
              "      <td>0.599162</td>\n",
              "      <td>0.589488</td>\n",
              "      <td>0.580122</td>\n",
              "      <td>0.596864</td>\n",
              "      <td>...</td>\n",
              "      <td>0.790791</td>\n",
              "      <td>1.885117</td>\n",
              "      <td>-0.657525</td>\n",
              "      <td>1.035091</td>\n",
              "      <td>-2.149372</td>\n",
              "      <td>-0.585667</td>\n",
              "      <td>-0.690829</td>\n",
              "      <td>0.883835</td>\n",
              "      <td>1.111735</td>\n",
              "      <td>-1.987004</td>\n",
              "    </tr>\n",
              "    <tr>\n",
              "      <th>1</th>\n",
              "      <td>0.504179</td>\n",
              "      <td>0.502219</td>\n",
              "      <td>0.572516</td>\n",
              "      <td>0.586335</td>\n",
              "      <td>0.583473</td>\n",
              "      <td>0.616068</td>\n",
              "      <td>0.608706</td>\n",
              "      <td>0.556364</td>\n",
              "      <td>0.537526</td>\n",
              "      <td>0.610089</td>\n",
              "      <td>...</td>\n",
              "      <td>-1.894827</td>\n",
              "      <td>1.245437</td>\n",
              "      <td>-1.539583</td>\n",
              "      <td>0.928111</td>\n",
              "      <td>-0.982554</td>\n",
              "      <td>1.359752</td>\n",
              "      <td>0.680624</td>\n",
              "      <td>0.048172</td>\n",
              "      <td>0.471071</td>\n",
              "      <td>1.975873</td>\n",
              "    </tr>\n",
              "    <tr>\n",
              "      <th>2</th>\n",
              "      <td>0.507732</td>\n",
              "      <td>0.523820</td>\n",
              "      <td>0.542378</td>\n",
              "      <td>0.531464</td>\n",
              "      <td>0.558567</td>\n",
              "      <td>0.587929</td>\n",
              "      <td>0.599318</td>\n",
              "      <td>0.617634</td>\n",
              "      <td>0.638433</td>\n",
              "      <td>0.683848</td>\n",
              "      <td>...</td>\n",
              "      <td>1.304363</td>\n",
              "      <td>3.720316</td>\n",
              "      <td>0.960145</td>\n",
              "      <td>2.151932</td>\n",
              "      <td>-1.314522</td>\n",
              "      <td>0.535253</td>\n",
              "      <td>0.962512</td>\n",
              "      <td>1.747308</td>\n",
              "      <td>0.431270</td>\n",
              "      <td>-0.664141</td>\n",
              "    </tr>\n",
              "    <tr>\n",
              "      <th>3</th>\n",
              "      <td>0.569297</td>\n",
              "      <td>0.537319</td>\n",
              "      <td>0.569763</td>\n",
              "      <td>0.573549</td>\n",
              "      <td>0.531171</td>\n",
              "      <td>0.506642</td>\n",
              "      <td>0.500459</td>\n",
              "      <td>0.541232</td>\n",
              "      <td>0.566349</td>\n",
              "      <td>0.604368</td>\n",
              "      <td>...</td>\n",
              "      <td>1.221021</td>\n",
              "      <td>0.971149</td>\n",
              "      <td>-0.977764</td>\n",
              "      <td>2.752212</td>\n",
              "      <td>-0.900777</td>\n",
              "      <td>-1.317232</td>\n",
              "      <td>-1.267177</td>\n",
              "      <td>0.926558</td>\n",
              "      <td>1.854297</td>\n",
              "      <td>-0.169858</td>\n",
              "    </tr>\n",
              "    <tr>\n",
              "      <th>4</th>\n",
              "      <td>0.562050</td>\n",
              "      <td>0.540595</td>\n",
              "      <td>0.574811</td>\n",
              "      <td>0.623219</td>\n",
              "      <td>0.664499</td>\n",
              "      <td>0.704987</td>\n",
              "      <td>0.722578</td>\n",
              "      <td>0.700190</td>\n",
              "      <td>0.738155</td>\n",
              "      <td>0.707143</td>\n",
              "      <td>...</td>\n",
              "      <td>-0.853887</td>\n",
              "      <td>0.410849</td>\n",
              "      <td>0.822144</td>\n",
              "      <td>1.057340</td>\n",
              "      <td>-2.002524</td>\n",
              "      <td>0.493143</td>\n",
              "      <td>0.639181</td>\n",
              "      <td>1.221849</td>\n",
              "      <td>0.903787</td>\n",
              "      <td>0.793003</td>\n",
              "    </tr>\n",
              "    <tr>\n",
              "      <th>5</th>\n",
              "      <td>0.557992</td>\n",
              "      <td>0.499071</td>\n",
              "      <td>0.552941</td>\n",
              "      <td>0.603953</td>\n",
              "      <td>0.654657</td>\n",
              "      <td>0.672274</td>\n",
              "      <td>0.668389</td>\n",
              "      <td>0.653258</td>\n",
              "      <td>0.702829</td>\n",
              "      <td>0.680175</td>\n",
              "      <td>...</td>\n",
              "      <td>0.877459</td>\n",
              "      <td>1.367134</td>\n",
              "      <td>-0.376386</td>\n",
              "      <td>-0.366801</td>\n",
              "      <td>-1.081348</td>\n",
              "      <td>1.728072</td>\n",
              "      <td>2.223586</td>\n",
              "      <td>2.140059</td>\n",
              "      <td>0.615226</td>\n",
              "      <td>-0.112621</td>\n",
              "    </tr>\n",
              "    <tr>\n",
              "      <th>6</th>\n",
              "      <td>0.591189</td>\n",
              "      <td>0.520621</td>\n",
              "      <td>0.533002</td>\n",
              "      <td>0.608661</td>\n",
              "      <td>0.596006</td>\n",
              "      <td>0.618235</td>\n",
              "      <td>0.657527</td>\n",
              "      <td>0.654322</td>\n",
              "      <td>0.597891</td>\n",
              "      <td>0.578309</td>\n",
              "      <td>...</td>\n",
              "      <td>-1.276366</td>\n",
              "      <td>1.172940</td>\n",
              "      <td>-1.091978</td>\n",
              "      <td>-1.056499</td>\n",
              "      <td>-1.426103</td>\n",
              "      <td>-0.264656</td>\n",
              "      <td>1.107791</td>\n",
              "      <td>-0.491072</td>\n",
              "      <td>0.061630</td>\n",
              "      <td>0.803908</td>\n",
              "    </tr>\n",
              "    <tr>\n",
              "      <th>7</th>\n",
              "      <td>0.547101</td>\n",
              "      <td>0.540207</td>\n",
              "      <td>0.620973</td>\n",
              "      <td>0.636411</td>\n",
              "      <td>0.601634</td>\n",
              "      <td>0.614691</td>\n",
              "      <td>0.652376</td>\n",
              "      <td>0.676398</td>\n",
              "      <td>0.677216</td>\n",
              "      <td>0.677979</td>\n",
              "      <td>...</td>\n",
              "      <td>-0.317630</td>\n",
              "      <td>1.545617</td>\n",
              "      <td>0.051841</td>\n",
              "      <td>-0.733314</td>\n",
              "      <td>-1.252215</td>\n",
              "      <td>1.874959</td>\n",
              "      <td>-0.194392</td>\n",
              "      <td>-1.143801</td>\n",
              "      <td>0.879638</td>\n",
              "      <td>2.633003</td>\n",
              "    </tr>\n",
              "    <tr>\n",
              "      <th>8</th>\n",
              "      <td>0.530831</td>\n",
              "      <td>0.528706</td>\n",
              "      <td>0.564873</td>\n",
              "      <td>0.544225</td>\n",
              "      <td>0.543501</td>\n",
              "      <td>0.575327</td>\n",
              "      <td>0.611570</td>\n",
              "      <td>0.610007</td>\n",
              "      <td>0.601030</td>\n",
              "      <td>0.585668</td>\n",
              "      <td>...</td>\n",
              "      <td>-2.136101</td>\n",
              "      <td>0.794941</td>\n",
              "      <td>-0.088155</td>\n",
              "      <td>-0.733942</td>\n",
              "      <td>-2.616600</td>\n",
              "      <td>-0.899663</td>\n",
              "      <td>0.473728</td>\n",
              "      <td>0.981317</td>\n",
              "      <td>-0.394813</td>\n",
              "      <td>-1.340978</td>\n",
              "    </tr>\n",
              "    <tr>\n",
              "      <th>9</th>\n",
              "      <td>0.611662</td>\n",
              "      <td>0.540496</td>\n",
              "      <td>0.554678</td>\n",
              "      <td>0.586610</td>\n",
              "      <td>0.544419</td>\n",
              "      <td>0.561324</td>\n",
              "      <td>0.600278</td>\n",
              "      <td>0.589857</td>\n",
              "      <td>0.564690</td>\n",
              "      <td>0.578905</td>\n",
              "      <td>...</td>\n",
              "      <td>-0.374221</td>\n",
              "      <td>0.920336</td>\n",
              "      <td>-2.001861</td>\n",
              "      <td>-2.182571</td>\n",
              "      <td>-1.261021</td>\n",
              "      <td>1.119098</td>\n",
              "      <td>-0.634531</td>\n",
              "      <td>-2.340468</td>\n",
              "      <td>-1.881102</td>\n",
              "      <td>0.855544</td>\n",
              "    </tr>\n",
              "    <tr>\n",
              "      <th>10</th>\n",
              "      <td>0.565597</td>\n",
              "      <td>0.587247</td>\n",
              "      <td>0.599050</td>\n",
              "      <td>0.614999</td>\n",
              "      <td>0.623982</td>\n",
              "      <td>0.604117</td>\n",
              "      <td>0.584023</td>\n",
              "      <td>0.604700</td>\n",
              "      <td>0.639821</td>\n",
              "      <td>0.658168</td>\n",
              "      <td>...</td>\n",
              "      <td>-2.903544</td>\n",
              "      <td>-1.105743</td>\n",
              "      <td>-1.647751</td>\n",
              "      <td>-2.781253</td>\n",
              "      <td>-1.558623</td>\n",
              "      <td>0.153344</td>\n",
              "      <td>1.683194</td>\n",
              "      <td>0.131308</td>\n",
              "      <td>0.023971</td>\n",
              "      <td>1.761706</td>\n",
              "    </tr>\n",
              "    <tr>\n",
              "      <th>11</th>\n",
              "      <td>0.582677</td>\n",
              "      <td>0.561763</td>\n",
              "      <td>0.591943</td>\n",
              "      <td>0.640955</td>\n",
              "      <td>0.648297</td>\n",
              "      <td>0.584856</td>\n",
              "      <td>0.537647</td>\n",
              "      <td>0.543092</td>\n",
              "      <td>0.534454</td>\n",
              "      <td>0.554343</td>\n",
              "      <td>...</td>\n",
              "      <td>-1.789327</td>\n",
              "      <td>-1.212024</td>\n",
              "      <td>-2.938857</td>\n",
              "      <td>-1.570181</td>\n",
              "      <td>-2.394484</td>\n",
              "      <td>1.575849</td>\n",
              "      <td>0.555646</td>\n",
              "      <td>2.266337</td>\n",
              "      <td>1.369555</td>\n",
              "      <td>1.337051</td>\n",
              "    </tr>\n",
              "    <tr>\n",
              "      <th>12</th>\n",
              "      <td>0.567928</td>\n",
              "      <td>0.555990</td>\n",
              "      <td>0.572394</td>\n",
              "      <td>0.563266</td>\n",
              "      <td>0.529604</td>\n",
              "      <td>0.523419</td>\n",
              "      <td>0.549318</td>\n",
              "      <td>0.581965</td>\n",
              "      <td>0.654261</td>\n",
              "      <td>0.685294</td>\n",
              "      <td>...</td>\n",
              "      <td>2.415414</td>\n",
              "      <td>3.602053</td>\n",
              "      <td>-0.029688</td>\n",
              "      <td>-1.558520</td>\n",
              "      <td>-1.933353</td>\n",
              "      <td>0.075405</td>\n",
              "      <td>0.716648</td>\n",
              "      <td>-0.649574</td>\n",
              "      <td>-1.402943</td>\n",
              "      <td>-0.815268</td>\n",
              "    </tr>\n",
              "    <tr>\n",
              "      <th>13</th>\n",
              "      <td>0.502641</td>\n",
              "      <td>0.470827</td>\n",
              "      <td>0.530057</td>\n",
              "      <td>0.571529</td>\n",
              "      <td>0.540431</td>\n",
              "      <td>0.528924</td>\n",
              "      <td>0.553787</td>\n",
              "      <td>0.550691</td>\n",
              "      <td>0.611023</td>\n",
              "      <td>0.659433</td>\n",
              "      <td>...</td>\n",
              "      <td>4.312638</td>\n",
              "      <td>3.256603</td>\n",
              "      <td>-0.230420</td>\n",
              "      <td>1.292277</td>\n",
              "      <td>0.252835</td>\n",
              "      <td>1.685217</td>\n",
              "      <td>0.386318</td>\n",
              "      <td>-1.675431</td>\n",
              "      <td>-1.428864</td>\n",
              "      <td>1.636072</td>\n",
              "    </tr>\n",
              "    <tr>\n",
              "      <th>14</th>\n",
              "      <td>0.518366</td>\n",
              "      <td>0.535983</td>\n",
              "      <td>0.584124</td>\n",
              "      <td>0.607205</td>\n",
              "      <td>0.607310</td>\n",
              "      <td>0.665378</td>\n",
              "      <td>0.725078</td>\n",
              "      <td>0.755568</td>\n",
              "      <td>0.708555</td>\n",
              "      <td>0.682281</td>\n",
              "      <td>...</td>\n",
              "      <td>-0.151688</td>\n",
              "      <td>2.277251</td>\n",
              "      <td>0.399551</td>\n",
              "      <td>1.362284</td>\n",
              "      <td>-1.186203</td>\n",
              "      <td>-1.227904</td>\n",
              "      <td>-0.240882</td>\n",
              "      <td>1.635089</td>\n",
              "      <td>0.160748</td>\n",
              "      <td>1.032989</td>\n",
              "    </tr>\n",
              "    <tr>\n",
              "      <th>15</th>\n",
              "      <td>0.506308</td>\n",
              "      <td>0.527098</td>\n",
              "      <td>0.564962</td>\n",
              "      <td>0.590294</td>\n",
              "      <td>0.596109</td>\n",
              "      <td>0.650940</td>\n",
              "      <td>0.713545</td>\n",
              "      <td>0.742357</td>\n",
              "      <td>0.747425</td>\n",
              "      <td>0.634925</td>\n",
              "      <td>...</td>\n",
              "      <td>1.900926</td>\n",
              "      <td>1.895141</td>\n",
              "      <td>2.148174</td>\n",
              "      <td>1.859027</td>\n",
              "      <td>-0.918489</td>\n",
              "      <td>0.044026</td>\n",
              "      <td>1.338115</td>\n",
              "      <td>0.138861</td>\n",
              "      <td>-0.699927</td>\n",
              "      <td>-0.846922</td>\n",
              "    </tr>\n",
              "  </tbody>\n",
              "</table>\n",
              "<p>16 rows × 180 columns</p>\n",
              "</div>"
            ]
          },
          "metadata": {},
          "execution_count": 25
        }
      ]
    },
    {
      "cell_type": "markdown",
      "metadata": {
        "pycharm": {
          "name": "#%% md\n"
        },
        "id": "Tq083zLEL9hH"
      },
      "source": [
        "We have a matrix of dim 1435 x 180. Looks good - 1435 audio samples, one per row, with a series of\n",
        "180 numerical features for each sample.\n",
        "\n",
        "**Each of the 1435 feature arrays has 180 features composed of 12 chromagram pitch classes + 128 mel spectrogram bands + 40 MFC coefficients.**\n",
        "\n",
        "**For the feature arrays for my recordings, there are 180 features for each row. Each row represents one of 16 of my own audio samples.**"
      ]
    },
    {
      "cell_type": "markdown",
      "source": [
        "Now we will save our features matrix and emotions array in excel file we dont have to compute them everytime we run the notebook, we can just load them from the excel file whenever required. Make sure to change the path to according to your drive."
      ],
      "metadata": {
        "id": "VF2SggHTDqbQ"
      }
    },
    {
      "cell_type": "code",
      "source": [
        "features_df_RAVDESS.to_csv('featuresRavdess.csv') #save features as csv file, so if I want to come to my notebook, I don't have to extract features everytime.\n",
        "emotions_df_RAVDESS.to_csv('emotionsRavdess.csv')\n"
      ],
      "metadata": {
        "id": "u6H8hc6gDtbp"
      },
      "execution_count": 26,
      "outputs": []
    },
    {
      "cell_type": "code",
      "source": [
        "features_df_mine.to_csv('featuresMine.csv') #save features as csv file, so if I want to come to my notebook, I don't have to extract features everytime.\n",
        "emotions_df_mine.to_csv('emotionsMine.csv')\n"
      ],
      "metadata": {
        "id": "RScdllPLUj8f"
      },
      "execution_count": 27,
      "outputs": []
    },
    {
      "cell_type": "markdown",
      "source": [
        "## Load pre-saved Dataset"
      ],
      "metadata": {
        "id": "VpE5m-5aEyoB"
      }
    },
    {
      "cell_type": "markdown",
      "source": [
        "Once saved you only need to load them later by running the cell below, and **skip every cell above** except for the one in which we import libraries."
      ],
      "metadata": {
        "id": "hHPB7dCqEotR"
      }
    },
    {
      "cell_type": "code",
      "source": [
        "features=pd.read_csv('featuresRavdess.csv',index_col=0)\n",
        "emotions=pd.read_csv('emotionsRavdess.csv',index_col=0)"
      ],
      "metadata": {
        "id": "-8nlJCESEn56"
      },
      "execution_count": 28,
      "outputs": []
    },
    {
      "cell_type": "code",
      "source": [
        "#now I can load the dataset by running this code, as the features & labels are stored in these csv files.\n",
        "features_mine=pd.read_csv('featuresMine.csv',index_col=0)\n",
        "emotions_mine=pd.read_csv('emotionsMine.csv',index_col=0)"
      ],
      "metadata": {
        "id": "Qg2TrmIIX6jS"
      },
      "execution_count": 29,
      "outputs": []
    },
    {
      "cell_type": "markdown",
      "source": [
        "let's see if they have been loaded correctly!"
      ],
      "metadata": {
        "id": "4x2dXjybD1NM"
      }
    },
    {
      "cell_type": "code",
      "source": [
        "features.head()"
      ],
      "metadata": {
        "id": "B5Xo1SVMD0qR",
        "outputId": "872520e0-2635-4c42-c294-5a764618aa2d",
        "colab": {
          "base_uri": "https://localhost:8080/",
          "height": 256
        },
        "collapsed": true
      },
      "execution_count": 30,
      "outputs": [
        {
          "output_type": "execute_result",
          "data": {
            "text/plain": [
              "          0         1         2         3         4         5         6  \\\n",
              "0  0.762872  0.786685  0.769217  0.768762  0.773605  0.766615  0.770437   \n",
              "1  0.747417  0.781693  0.774763  0.755513  0.770826  0.783455  0.754270   \n",
              "2  0.767132  0.788347  0.785654  0.786579  0.777644  0.755638  0.761176   \n",
              "3  0.765556  0.760809  0.754814  0.773621  0.797597  0.785697  0.754200   \n",
              "4  0.706621  0.751378  0.765777  0.754597  0.759112  0.770332  0.755594   \n",
              "\n",
              "          7         8         9  ...       170       171       172       173  \\\n",
              "0  0.764894  0.780340  0.761150  ...  0.457081 -1.399110 -2.926856  0.013957   \n",
              "1  0.748580  0.766922  0.768814  ...  0.275460 -2.521470 -2.987673  0.409735   \n",
              "2  0.752333  0.774452  0.743741  ... -0.002119 -0.909152 -3.045955 -0.373294   \n",
              "3  0.761343  0.742356  0.725235  ... -0.403806 -1.329651 -2.513404 -0.190276   \n",
              "4  0.741855  0.750050  0.755684  ...  0.206463 -2.188582 -2.835501  0.463746   \n",
              "\n",
              "        174       175       176       177       178       179  \n",
              "0 -0.490734 -0.570905  0.040399 -1.207218 -1.594982 -1.436487  \n",
              "1 -0.484184 -1.398391  0.255204 -0.984978 -2.093061 -1.040791  \n",
              "2 -0.849145 -0.922105 -0.170320 -1.144422 -1.725612 -1.450560  \n",
              "3 -0.645949 -0.553919  0.459299 -1.580085 -1.647682 -1.509511  \n",
              "4 -1.019167 -1.411441  0.350433 -1.519892 -1.250112 -0.613852  \n",
              "\n",
              "[5 rows x 180 columns]"
            ],
            "text/html": [
              "<div>\n",
              "<style scoped>\n",
              "    .dataframe tbody tr th:only-of-type {\n",
              "        vertical-align: middle;\n",
              "    }\n",
              "\n",
              "    .dataframe tbody tr th {\n",
              "        vertical-align: top;\n",
              "    }\n",
              "\n",
              "    .dataframe thead th {\n",
              "        text-align: right;\n",
              "    }\n",
              "</style>\n",
              "<table border=\"1\" class=\"dataframe\">\n",
              "  <thead>\n",
              "    <tr style=\"text-align: right;\">\n",
              "      <th></th>\n",
              "      <th>0</th>\n",
              "      <th>1</th>\n",
              "      <th>2</th>\n",
              "      <th>3</th>\n",
              "      <th>4</th>\n",
              "      <th>5</th>\n",
              "      <th>6</th>\n",
              "      <th>7</th>\n",
              "      <th>8</th>\n",
              "      <th>9</th>\n",
              "      <th>...</th>\n",
              "      <th>170</th>\n",
              "      <th>171</th>\n",
              "      <th>172</th>\n",
              "      <th>173</th>\n",
              "      <th>174</th>\n",
              "      <th>175</th>\n",
              "      <th>176</th>\n",
              "      <th>177</th>\n",
              "      <th>178</th>\n",
              "      <th>179</th>\n",
              "    </tr>\n",
              "  </thead>\n",
              "  <tbody>\n",
              "    <tr>\n",
              "      <th>0</th>\n",
              "      <td>0.762872</td>\n",
              "      <td>0.786685</td>\n",
              "      <td>0.769217</td>\n",
              "      <td>0.768762</td>\n",
              "      <td>0.773605</td>\n",
              "      <td>0.766615</td>\n",
              "      <td>0.770437</td>\n",
              "      <td>0.764894</td>\n",
              "      <td>0.780340</td>\n",
              "      <td>0.761150</td>\n",
              "      <td>...</td>\n",
              "      <td>0.457081</td>\n",
              "      <td>-1.399110</td>\n",
              "      <td>-2.926856</td>\n",
              "      <td>0.013957</td>\n",
              "      <td>-0.490734</td>\n",
              "      <td>-0.570905</td>\n",
              "      <td>0.040399</td>\n",
              "      <td>-1.207218</td>\n",
              "      <td>-1.594982</td>\n",
              "      <td>-1.436487</td>\n",
              "    </tr>\n",
              "    <tr>\n",
              "      <th>1</th>\n",
              "      <td>0.747417</td>\n",
              "      <td>0.781693</td>\n",
              "      <td>0.774763</td>\n",
              "      <td>0.755513</td>\n",
              "      <td>0.770826</td>\n",
              "      <td>0.783455</td>\n",
              "      <td>0.754270</td>\n",
              "      <td>0.748580</td>\n",
              "      <td>0.766922</td>\n",
              "      <td>0.768814</td>\n",
              "      <td>...</td>\n",
              "      <td>0.275460</td>\n",
              "      <td>-2.521470</td>\n",
              "      <td>-2.987673</td>\n",
              "      <td>0.409735</td>\n",
              "      <td>-0.484184</td>\n",
              "      <td>-1.398391</td>\n",
              "      <td>0.255204</td>\n",
              "      <td>-0.984978</td>\n",
              "      <td>-2.093061</td>\n",
              "      <td>-1.040791</td>\n",
              "    </tr>\n",
              "    <tr>\n",
              "      <th>2</th>\n",
              "      <td>0.767132</td>\n",
              "      <td>0.788347</td>\n",
              "      <td>0.785654</td>\n",
              "      <td>0.786579</td>\n",
              "      <td>0.777644</td>\n",
              "      <td>0.755638</td>\n",
              "      <td>0.761176</td>\n",
              "      <td>0.752333</td>\n",
              "      <td>0.774452</td>\n",
              "      <td>0.743741</td>\n",
              "      <td>...</td>\n",
              "      <td>-0.002119</td>\n",
              "      <td>-0.909152</td>\n",
              "      <td>-3.045955</td>\n",
              "      <td>-0.373294</td>\n",
              "      <td>-0.849145</td>\n",
              "      <td>-0.922105</td>\n",
              "      <td>-0.170320</td>\n",
              "      <td>-1.144422</td>\n",
              "      <td>-1.725612</td>\n",
              "      <td>-1.450560</td>\n",
              "    </tr>\n",
              "    <tr>\n",
              "      <th>3</th>\n",
              "      <td>0.765556</td>\n",
              "      <td>0.760809</td>\n",
              "      <td>0.754814</td>\n",
              "      <td>0.773621</td>\n",
              "      <td>0.797597</td>\n",
              "      <td>0.785697</td>\n",
              "      <td>0.754200</td>\n",
              "      <td>0.761343</td>\n",
              "      <td>0.742356</td>\n",
              "      <td>0.725235</td>\n",
              "      <td>...</td>\n",
              "      <td>-0.403806</td>\n",
              "      <td>-1.329651</td>\n",
              "      <td>-2.513404</td>\n",
              "      <td>-0.190276</td>\n",
              "      <td>-0.645949</td>\n",
              "      <td>-0.553919</td>\n",
              "      <td>0.459299</td>\n",
              "      <td>-1.580085</td>\n",
              "      <td>-1.647682</td>\n",
              "      <td>-1.509511</td>\n",
              "    </tr>\n",
              "    <tr>\n",
              "      <th>4</th>\n",
              "      <td>0.706621</td>\n",
              "      <td>0.751378</td>\n",
              "      <td>0.765777</td>\n",
              "      <td>0.754597</td>\n",
              "      <td>0.759112</td>\n",
              "      <td>0.770332</td>\n",
              "      <td>0.755594</td>\n",
              "      <td>0.741855</td>\n",
              "      <td>0.750050</td>\n",
              "      <td>0.755684</td>\n",
              "      <td>...</td>\n",
              "      <td>0.206463</td>\n",
              "      <td>-2.188582</td>\n",
              "      <td>-2.835501</td>\n",
              "      <td>0.463746</td>\n",
              "      <td>-1.019167</td>\n",
              "      <td>-1.411441</td>\n",
              "      <td>0.350433</td>\n",
              "      <td>-1.519892</td>\n",
              "      <td>-1.250112</td>\n",
              "      <td>-0.613852</td>\n",
              "    </tr>\n",
              "  </tbody>\n",
              "</table>\n",
              "<p>5 rows × 180 columns</p>\n",
              "</div>"
            ]
          },
          "metadata": {},
          "execution_count": 30
        }
      ]
    },
    {
      "cell_type": "code",
      "source": [
        "features_mine.head()"
      ],
      "metadata": {
        "colab": {
          "base_uri": "https://localhost:8080/",
          "height": 256
        },
        "id": "2goTKXl7ZgKi",
        "outputId": "39837710-cd25-45b4-812e-9c98644ce720"
      },
      "execution_count": 31,
      "outputs": [
        {
          "output_type": "execute_result",
          "data": {
            "text/plain": [
              "          0         1         2         3         4         5         6  \\\n",
              "0  0.532068  0.505171  0.540265  0.560970  0.572051  0.601194  0.599162   \n",
              "1  0.504179  0.502219  0.572516  0.586335  0.583473  0.616068  0.608706   \n",
              "2  0.507732  0.523820  0.542378  0.531464  0.558567  0.587929  0.599318   \n",
              "3  0.569297  0.537319  0.569763  0.573549  0.531171  0.506642  0.500459   \n",
              "4  0.562050  0.540595  0.574811  0.623219  0.664498  0.704987  0.722578   \n",
              "\n",
              "          7         8         9  ...       170       171       172       173  \\\n",
              "0  0.589488  0.580122  0.596864  ...  0.790791  1.885117 -0.657525  1.035091   \n",
              "1  0.556364  0.537527  0.610089  ... -1.894827  1.245437 -1.539583  0.928111   \n",
              "2  0.617634  0.638433  0.683848  ...  1.304363  3.720316  0.960145  2.151932   \n",
              "3  0.541232  0.566349  0.604368  ...  1.221021  0.971149 -0.977764  2.752212   \n",
              "4  0.700190  0.738155  0.707143  ... -0.853887  0.410849  0.822144  1.057340   \n",
              "\n",
              "        174       175       176       177       178       179  \n",
              "0 -2.149372 -0.585667 -0.690829  0.883835  1.111735 -1.987004  \n",
              "1 -0.982554  1.359752  0.680624  0.048172  0.471071  1.975873  \n",
              "2 -1.314522  0.535253  0.962512  1.747308  0.431270 -0.664141  \n",
              "3 -0.900777 -1.317232 -1.267177  0.926558  1.854297 -0.169858  \n",
              "4 -2.002524  0.493143  0.639181  1.221849  0.903787  0.793003  \n",
              "\n",
              "[5 rows x 180 columns]"
            ],
            "text/html": [
              "<div>\n",
              "<style scoped>\n",
              "    .dataframe tbody tr th:only-of-type {\n",
              "        vertical-align: middle;\n",
              "    }\n",
              "\n",
              "    .dataframe tbody tr th {\n",
              "        vertical-align: top;\n",
              "    }\n",
              "\n",
              "    .dataframe thead th {\n",
              "        text-align: right;\n",
              "    }\n",
              "</style>\n",
              "<table border=\"1\" class=\"dataframe\">\n",
              "  <thead>\n",
              "    <tr style=\"text-align: right;\">\n",
              "      <th></th>\n",
              "      <th>0</th>\n",
              "      <th>1</th>\n",
              "      <th>2</th>\n",
              "      <th>3</th>\n",
              "      <th>4</th>\n",
              "      <th>5</th>\n",
              "      <th>6</th>\n",
              "      <th>7</th>\n",
              "      <th>8</th>\n",
              "      <th>9</th>\n",
              "      <th>...</th>\n",
              "      <th>170</th>\n",
              "      <th>171</th>\n",
              "      <th>172</th>\n",
              "      <th>173</th>\n",
              "      <th>174</th>\n",
              "      <th>175</th>\n",
              "      <th>176</th>\n",
              "      <th>177</th>\n",
              "      <th>178</th>\n",
              "      <th>179</th>\n",
              "    </tr>\n",
              "  </thead>\n",
              "  <tbody>\n",
              "    <tr>\n",
              "      <th>0</th>\n",
              "      <td>0.532068</td>\n",
              "      <td>0.505171</td>\n",
              "      <td>0.540265</td>\n",
              "      <td>0.560970</td>\n",
              "      <td>0.572051</td>\n",
              "      <td>0.601194</td>\n",
              "      <td>0.599162</td>\n",
              "      <td>0.589488</td>\n",
              "      <td>0.580122</td>\n",
              "      <td>0.596864</td>\n",
              "      <td>...</td>\n",
              "      <td>0.790791</td>\n",
              "      <td>1.885117</td>\n",
              "      <td>-0.657525</td>\n",
              "      <td>1.035091</td>\n",
              "      <td>-2.149372</td>\n",
              "      <td>-0.585667</td>\n",
              "      <td>-0.690829</td>\n",
              "      <td>0.883835</td>\n",
              "      <td>1.111735</td>\n",
              "      <td>-1.987004</td>\n",
              "    </tr>\n",
              "    <tr>\n",
              "      <th>1</th>\n",
              "      <td>0.504179</td>\n",
              "      <td>0.502219</td>\n",
              "      <td>0.572516</td>\n",
              "      <td>0.586335</td>\n",
              "      <td>0.583473</td>\n",
              "      <td>0.616068</td>\n",
              "      <td>0.608706</td>\n",
              "      <td>0.556364</td>\n",
              "      <td>0.537527</td>\n",
              "      <td>0.610089</td>\n",
              "      <td>...</td>\n",
              "      <td>-1.894827</td>\n",
              "      <td>1.245437</td>\n",
              "      <td>-1.539583</td>\n",
              "      <td>0.928111</td>\n",
              "      <td>-0.982554</td>\n",
              "      <td>1.359752</td>\n",
              "      <td>0.680624</td>\n",
              "      <td>0.048172</td>\n",
              "      <td>0.471071</td>\n",
              "      <td>1.975873</td>\n",
              "    </tr>\n",
              "    <tr>\n",
              "      <th>2</th>\n",
              "      <td>0.507732</td>\n",
              "      <td>0.523820</td>\n",
              "      <td>0.542378</td>\n",
              "      <td>0.531464</td>\n",
              "      <td>0.558567</td>\n",
              "      <td>0.587929</td>\n",
              "      <td>0.599318</td>\n",
              "      <td>0.617634</td>\n",
              "      <td>0.638433</td>\n",
              "      <td>0.683848</td>\n",
              "      <td>...</td>\n",
              "      <td>1.304363</td>\n",
              "      <td>3.720316</td>\n",
              "      <td>0.960145</td>\n",
              "      <td>2.151932</td>\n",
              "      <td>-1.314522</td>\n",
              "      <td>0.535253</td>\n",
              "      <td>0.962512</td>\n",
              "      <td>1.747308</td>\n",
              "      <td>0.431270</td>\n",
              "      <td>-0.664141</td>\n",
              "    </tr>\n",
              "    <tr>\n",
              "      <th>3</th>\n",
              "      <td>0.569297</td>\n",
              "      <td>0.537319</td>\n",
              "      <td>0.569763</td>\n",
              "      <td>0.573549</td>\n",
              "      <td>0.531171</td>\n",
              "      <td>0.506642</td>\n",
              "      <td>0.500459</td>\n",
              "      <td>0.541232</td>\n",
              "      <td>0.566349</td>\n",
              "      <td>0.604368</td>\n",
              "      <td>...</td>\n",
              "      <td>1.221021</td>\n",
              "      <td>0.971149</td>\n",
              "      <td>-0.977764</td>\n",
              "      <td>2.752212</td>\n",
              "      <td>-0.900777</td>\n",
              "      <td>-1.317232</td>\n",
              "      <td>-1.267177</td>\n",
              "      <td>0.926558</td>\n",
              "      <td>1.854297</td>\n",
              "      <td>-0.169858</td>\n",
              "    </tr>\n",
              "    <tr>\n",
              "      <th>4</th>\n",
              "      <td>0.562050</td>\n",
              "      <td>0.540595</td>\n",
              "      <td>0.574811</td>\n",
              "      <td>0.623219</td>\n",
              "      <td>0.664498</td>\n",
              "      <td>0.704987</td>\n",
              "      <td>0.722578</td>\n",
              "      <td>0.700190</td>\n",
              "      <td>0.738155</td>\n",
              "      <td>0.707143</td>\n",
              "      <td>...</td>\n",
              "      <td>-0.853887</td>\n",
              "      <td>0.410849</td>\n",
              "      <td>0.822144</td>\n",
              "      <td>1.057340</td>\n",
              "      <td>-2.002524</td>\n",
              "      <td>0.493143</td>\n",
              "      <td>0.639181</td>\n",
              "      <td>1.221849</td>\n",
              "      <td>0.903787</td>\n",
              "      <td>0.793003</td>\n",
              "    </tr>\n",
              "  </tbody>\n",
              "</table>\n",
              "<p>5 rows × 180 columns</p>\n",
              "</div>"
            ]
          },
          "metadata": {},
          "execution_count": 31
        }
      ]
    },
    {
      "cell_type": "markdown",
      "metadata": {
        "id": "esInVDq7L9hT"
      },
      "source": [
        "Let's see the class balance of our dataset:"
      ]
    },
    {
      "cell_type": "code",
      "execution_count": 32,
      "metadata": {
        "id": "Si3OFQe7L9hU",
        "outputId": "f3fe586e-23a4-4b83-ff31-387acb48cecf",
        "colab": {
          "base_uri": "https://localhost:8080/",
          "height": 399
        }
      },
      "outputs": [
        {
          "output_type": "display_data",
          "data": {
            "text/plain": [
              "<Figure size 3500x400 with 1 Axes>"
            ],
            "image/png": "[encoded data removed]"
          },
          "metadata": {}
        }
      ],
      "source": [
        "# plot emotions\n",
        "plt.figure(figsize=(35,4))\n",
        "plt.subplot(1,3,1)\n",
        "#np.unique returns ordered list of unique elements and count of each element\n",
        "emotion_list, count = np.unique(emotions, return_counts=True)\n",
        "plt.bar(x=range(8), height=count)\n",
        "plt.xticks(ticks=range(8), labels = [emotion for emotion in emotion_list],fontsize=10)\n",
        "plt.xlabel('Emotion')\n",
        "plt.tick_params(labelsize=16)\n",
        "plt.ylabel('Number of Samples')\n",
        "plt.show()"
      ]
    },
    {
      "cell_type": "code",
      "source": [
        "# plot emotions\n",
        "plt.figure(figsize=(35,4))\n",
        "plt.subplot(1,3,1)\n",
        "#np.unique returns ordered list of unique elements and count of each element\n",
        "emotion_list, count = np.unique(emotions_mine, return_counts=True)\n",
        "plt.bar(x=range(8), height=count)\n",
        "plt.xticks(ticks=range(8), labels = [emotion for emotion in emotion_list],fontsize=10)\n",
        "plt.xlabel('Emotion')\n",
        "plt.tick_params(labelsize=16)\n",
        "plt.ylabel('Number of Samples')\n",
        "plt.show()"
      ],
      "metadata": {
        "colab": {
          "base_uri": "https://localhost:8080/",
          "height": 394
        },
        "id": "po4qFBx4ZSmJ",
        "outputId": "77fcd74d-5d51-47f4-d8e2-c3518d87cd20"
      },
      "execution_count": 33,
      "outputs": [
        {
          "output_type": "display_data",
          "data": {
            "text/plain": [
              "<Figure size 3500x400 with 1 Axes>"
            ],
            "image/png": "[encoded data removed]"
          },
          "metadata": {}
        }
      ]
    },
    {
      "cell_type": "markdown",
      "metadata": {
        "id": "Mw_wKC8WL9hV"
      },
      "source": [
        "**Great, the classes appear to be balanced. That makes the task easier.** All emotions _except_ the neutral class have a \"strong\" intensity so there are half as many neutral samples. That might have an impact.\n",
        "\n",
        "**For my own recording samples, there are equal number of samples for all emotions.**"
      ]
    },
    {
      "cell_type": "markdown",
      "metadata": {
        "id": "WhtlYshOL9hV"
      },
      "source": [
        "### Feature Scaling\n",
        "To properly train most machine learning models on _most_ datasets, we first need to scale our features. **This is crucial for models which compute distances between data, and especially critical for DNNs**: If there is a difference in the variance of features simply because of their possible range of values, then a model will learn that the features with the greatest variance are the most important. However, **differences in the variance of unscaled features belonging to different and unknown distributions is an inappropriate measure of importance.** Let's check our features' properties:"
      ]
    },
    {
      "cell_type": "code",
      "source": [
        "features.describe() #give stats of the dataset, but too comprehensive at this point\n",
        "#feature scaling is a step -> transform your features to fit in the same range\n",
        "#w/o scaling, features w large numerical ranges would determine the learning process, have stronger effect on learning and results of model."
      ],
      "metadata": {
        "colab": {
          "base_uri": "https://localhost:8080/",
          "height": 350
        },
        "collapsed": true,
        "id": "_YnQhE0_kK4e",
        "outputId": "12a9f7d6-4423-4299-fd38-9867314488db"
      },
      "execution_count": 34,
      "outputs": [
        {
          "output_type": "execute_result",
          "data": {
            "text/plain": [
              "                 0            1            2            3            4  \\\n",
              "count  1439.000000  1439.000000  1439.000000  1439.000000  1439.000000   \n",
              "mean      0.650087     0.644341     0.647674     0.655529     0.672134   \n",
              "std       0.079967     0.089342     0.093376     0.094667     0.095841   \n",
              "min       0.378328     0.340238     0.310377     0.331314     0.390025   \n",
              "25%       0.598379     0.582815     0.581055     0.586055     0.599667   \n",
              "50%       0.654876     0.649927     0.655052     0.668835     0.691003   \n",
              "75%       0.706563     0.713002     0.719715     0.727984     0.746028   \n",
              "max       0.999220     1.000000     0.993108     0.993468     0.987711   \n",
              "\n",
              "                 5            6            7            8            9  ...  \\\n",
              "count  1439.000000  1439.000000  1439.000000  1439.000000  1439.000000  ...   \n",
              "mean      0.682334     0.685764     0.676944     0.680580     0.672372  ...   \n",
              "std       0.091045     0.086206     0.083202     0.082454     0.081270  ...   \n",
              "min       0.378070     0.350047     0.363718     0.406125     0.414586  ...   \n",
              "25%       0.617649     0.624447     0.621030     0.623838     0.619966  ...   \n",
              "50%       0.702265     0.703367     0.691409     0.695257     0.687079  ...   \n",
              "75%       0.749260     0.748559     0.738186     0.742406     0.731090  ...   \n",
              "max       0.982193     0.977960     0.978808     0.985014     0.988497  ...   \n",
              "\n",
              "               170          171          172          173          174  \\\n",
              "count  1439.000000  1439.000000  1439.000000  1439.000000  1439.000000   \n",
              "mean     -0.331587     0.340400    -0.261223     0.643757     0.542990   \n",
              "std       2.225222     2.327544     2.184184     2.085400     2.016637   \n",
              "min      -5.994779    -4.969791    -5.206001    -4.321074    -4.948631   \n",
              "25%      -1.762381    -1.172788    -1.688962    -0.762177    -0.799072   \n",
              "50%      -0.563176     0.019998    -0.452503     0.385209     0.246903   \n",
              "75%       0.760126     1.519243     0.935825     1.757782     1.664413   \n",
              "max      12.655916    14.277499    10.516112    11.420576     9.299726   \n",
              "\n",
              "               175          176          177          178          179  \n",
              "count  1439.000000  1439.000000  1439.000000  1439.000000  1439.000000  \n",
              "mean      0.488295     0.564299     0.693862     0.417006     0.893276  \n",
              "std       1.987201     1.935450     1.896175     1.959625     1.999345  \n",
              "min      -6.151188    -5.380692    -4.377184    -4.573127    -4.713404  \n",
              "25%      -0.800608    -0.780440    -0.573444    -0.956097    -0.485928  \n",
              "50%       0.217135     0.377462     0.542140     0.145143     0.637917  \n",
              "75%       1.731556     1.652921     1.791810     1.585066     2.039096  \n",
              "max       8.715325    10.268682     9.382307     9.480828    10.302836  \n",
              "\n",
              "[8 rows x 180 columns]"
            ],
            "text/html": [
              "<div>\n",
              "<style scoped>\n",
              "    .dataframe tbody tr th:only-of-type {\n",
              "        vertical-align: middle;\n",
              "    }\n",
              "\n",
              "    .dataframe tbody tr th {\n",
              "        vertical-align: top;\n",
              "    }\n",
              "\n",
              "    .dataframe thead th {\n",
              "        text-align: right;\n",
              "    }\n",
              "</style>\n",
              "<table border=\"1\" class=\"dataframe\">\n",
              "  <thead>\n",
              "    <tr style=\"text-align: right;\">\n",
              "      <th></th>\n",
              "      <th>0</th>\n",
              "      <th>1</th>\n",
              "      <th>2</th>\n",
              "      <th>3</th>\n",
              "      <th>4</th>\n",
              "      <th>5</th>\n",
              "      <th>6</th>\n",
              "      <th>7</th>\n",
              "      <th>8</th>\n",
              "      <th>9</th>\n",
              "      <th>...</th>\n",
              "      <th>170</th>\n",
              "      <th>171</th>\n",
              "      <th>172</th>\n",
              "      <th>173</th>\n",
              "      <th>174</th>\n",
              "      <th>175</th>\n",
              "      <th>176</th>\n",
              "      <th>177</th>\n",
              "      <th>178</th>\n",
              "      <th>179</th>\n",
              "    </tr>\n",
              "  </thead>\n",
              "  <tbody>\n",
              "    <tr>\n",
              "      <th>count</th>\n",
              "      <td>1439.000000</td>\n",
              "      <td>1439.000000</td>\n",
              "      <td>1439.000000</td>\n",
              "      <td>1439.000000</td>\n",
              "      <td>1439.000000</td>\n",
              "      <td>1439.000000</td>\n",
              "      <td>1439.000000</td>\n",
              "      <td>1439.000000</td>\n",
              "      <td>1439.000000</td>\n",
              "      <td>1439.000000</td>\n",
              "      <td>...</td>\n",
              "      <td>1439.000000</td>\n",
              "      <td>1439.000000</td>\n",
              "      <td>1439.000000</td>\n",
              "      <td>1439.000000</td>\n",
              "      <td>1439.000000</td>\n",
              "      <td>1439.000000</td>\n",
              "      <td>1439.000000</td>\n",
              "      <td>1439.000000</td>\n",
              "      <td>1439.000000</td>\n",
              "      <td>1439.000000</td>\n",
              "    </tr>\n",
              "    <tr>\n",
              "      <th>mean</th>\n",
              "      <td>0.650087</td>\n",
              "      <td>0.644341</td>\n",
              "      <td>0.647674</td>\n",
              "      <td>0.655529</td>\n",
              "      <td>0.672134</td>\n",
              "      <td>0.682334</td>\n",
              "      <td>0.685764</td>\n",
              "      <td>0.676944</td>\n",
              "      <td>0.680580</td>\n",
              "      <td>0.672372</td>\n",
              "      <td>...</td>\n",
              "      <td>-0.331587</td>\n",
              "      <td>0.340400</td>\n",
              "      <td>-0.261223</td>\n",
              "      <td>0.643757</td>\n",
              "      <td>0.542990</td>\n",
              "      <td>0.488295</td>\n",
              "      <td>0.564299</td>\n",
              "      <td>0.693862</td>\n",
              "      <td>0.417006</td>\n",
              "      <td>0.893276</td>\n",
              "    </tr>\n",
              "    <tr>\n",
              "      <th>std</th>\n",
              "      <td>0.079967</td>\n",
              "      <td>0.089342</td>\n",
              "      <td>0.093376</td>\n",
              "      <td>0.094667</td>\n",
              "      <td>0.095841</td>\n",
              "      <td>0.091045</td>\n",
              "      <td>0.086206</td>\n",
              "      <td>0.083202</td>\n",
              "      <td>0.082454</td>\n",
              "      <td>0.081270</td>\n",
              "      <td>...</td>\n",
              "      <td>2.225222</td>\n",
              "      <td>2.327544</td>\n",
              "      <td>2.184184</td>\n",
              "      <td>2.085400</td>\n",
              "      <td>2.016637</td>\n",
              "      <td>1.987201</td>\n",
              "      <td>1.935450</td>\n",
              "      <td>1.896175</td>\n",
              "      <td>1.959625</td>\n",
              "      <td>1.999345</td>\n",
              "    </tr>\n",
              "    <tr>\n",
              "      <th>min</th>\n",
              "      <td>0.378328</td>\n",
              "      <td>0.340238</td>\n",
              "      <td>0.310377</td>\n",
              "      <td>0.331314</td>\n",
              "      <td>0.390025</td>\n",
              "      <td>0.378070</td>\n",
              "      <td>0.350047</td>\n",
              "      <td>0.363718</td>\n",
              "      <td>0.406125</td>\n",
              "      <td>0.414586</td>\n",
              "      <td>...</td>\n",
              "      <td>-5.994779</td>\n",
              "      <td>-4.969791</td>\n",
              "      <td>-5.206001</td>\n",
              "      <td>-4.321074</td>\n",
              "      <td>-4.948631</td>\n",
              "      <td>-6.151188</td>\n",
              "      <td>-5.380692</td>\n",
              "      <td>-4.377184</td>\n",
              "      <td>-4.573127</td>\n",
              "      <td>-4.713404</td>\n",
              "    </tr>\n",
              "    <tr>\n",
              "      <th>25%</th>\n",
              "      <td>0.598379</td>\n",
              "      <td>0.582815</td>\n",
              "      <td>0.581055</td>\n",
              "      <td>0.586055</td>\n",
              "      <td>0.599667</td>\n",
              "      <td>0.617649</td>\n",
              "      <td>0.624447</td>\n",
              "      <td>0.621030</td>\n",
              "      <td>0.623838</td>\n",
              "      <td>0.619966</td>\n",
              "      <td>...</td>\n",
              "      <td>-1.762381</td>\n",
              "      <td>-1.172788</td>\n",
              "      <td>-1.688962</td>\n",
              "      <td>-0.762177</td>\n",
              "      <td>-0.799072</td>\n",
              "      <td>-0.800608</td>\n",
              "      <td>-0.780440</td>\n",
              "      <td>-0.573444</td>\n",
              "      <td>-0.956097</td>\n",
              "      <td>-0.485928</td>\n",
              "    </tr>\n",
              "    <tr>\n",
              "      <th>50%</th>\n",
              "      <td>0.654876</td>\n",
              "      <td>0.649927</td>\n",
              "      <td>0.655052</td>\n",
              "      <td>0.668835</td>\n",
              "      <td>0.691003</td>\n",
              "      <td>0.702265</td>\n",
              "      <td>0.703367</td>\n",
              "      <td>0.691409</td>\n",
              "      <td>0.695257</td>\n",
              "      <td>0.687079</td>\n",
              "      <td>...</td>\n",
              "      <td>-0.563176</td>\n",
              "      <td>0.019998</td>\n",
              "      <td>-0.452503</td>\n",
              "      <td>0.385209</td>\n",
              "      <td>0.246903</td>\n",
              "      <td>0.217135</td>\n",
              "      <td>0.377462</td>\n",
              "      <td>0.542140</td>\n",
              "      <td>0.145143</td>\n",
              "      <td>0.637917</td>\n",
              "    </tr>\n",
              "    <tr>\n",
              "      <th>75%</th>\n",
              "      <td>0.706563</td>\n",
              "      <td>0.713002</td>\n",
              "      <td>0.719715</td>\n",
              "      <td>0.727984</td>\n",
              "      <td>0.746028</td>\n",
              "      <td>0.749260</td>\n",
              "      <td>0.748559</td>\n",
              "      <td>0.738186</td>\n",
              "      <td>0.742406</td>\n",
              "      <td>0.731090</td>\n",
              "      <td>...</td>\n",
              "      <td>0.760126</td>\n",
              "      <td>1.519243</td>\n",
              "      <td>0.935825</td>\n",
              "      <td>1.757782</td>\n",
              "      <td>1.664413</td>\n",
              "      <td>1.731556</td>\n",
              "      <td>1.652921</td>\n",
              "      <td>1.791810</td>\n",
              "      <td>1.585066</td>\n",
              "      <td>2.039096</td>\n",
              "    </tr>\n",
              "    <tr>\n",
              "      <th>max</th>\n",
              "      <td>0.999220</td>\n",
              "      <td>1.000000</td>\n",
              "      <td>0.993108</td>\n",
              "      <td>0.993468</td>\n",
              "      <td>0.987711</td>\n",
              "      <td>0.982193</td>\n",
              "      <td>0.977960</td>\n",
              "      <td>0.978808</td>\n",
              "      <td>0.985014</td>\n",
              "      <td>0.988497</td>\n",
              "      <td>...</td>\n",
              "      <td>12.655916</td>\n",
              "      <td>14.277499</td>\n",
              "      <td>10.516112</td>\n",
              "      <td>11.420576</td>\n",
              "      <td>9.299726</td>\n",
              "      <td>8.715325</td>\n",
              "      <td>10.268682</td>\n",
              "      <td>9.382307</td>\n",
              "      <td>9.480828</td>\n",
              "      <td>10.302836</td>\n",
              "    </tr>\n",
              "  </tbody>\n",
              "</table>\n",
              "<p>8 rows × 180 columns</p>\n",
              "</div>"
            ]
          },
          "metadata": {},
          "execution_count": 34
        }
      ]
    },
    {
      "cell_type": "code",
      "execution_count": 35,
      "metadata": {
        "id": "_IUm1DLwL9hW",
        "outputId": "6afbd593-9ce9-4302-cbbf-6bf73c367810",
        "colab": {
          "base_uri": "https://localhost:8080/"
        }
      },
      "outputs": [
        {
          "output_type": "stream",
          "name": "stdout",
          "text": [
            "12 Chromagram features:           min = 0.310,     max = 1.000,     mean = 0.667,     deviation = 0.087\n",
            "\n",
            "128 Mel Spectrogram features:     min = 0.000,     max = 149.208,     mean = 0.187,     deviation = 1.598\n",
            "\n",
            "40 MFCC features:                 min = -1131.371,    max = 115.126,    mean = -14.674,    deviation = 98.873\n"
          ]
        }
      ],
      "source": [
        "# We would usually use df.describe(), but it provides a bit of a mess of information we don't need at the moment.\n",
        "def print_features(df):\n",
        "    # Check chromagram feature values\n",
        "    features_df_chromagram = df.loc[:,:11]\n",
        "    chroma_min = features_df_chromagram.min().min()\n",
        "    chroma_max = features_df_chromagram.max().max()\n",
        "    # stack all features into a single series so we don't get a mean of means or stdev of stdevs\n",
        "    chroma_mean = features_df_chromagram.stack().mean()\n",
        "    chroma_stdev = features_df_chromagram.stack().std()\n",
        "    print(f'12 Chromagram features:       \\\n",
        "    min = {chroma_min:.3f}, \\\n",
        "    max = {chroma_max:.3f}, \\\n",
        "    mean = {chroma_mean:.3f}, \\\n",
        "    deviation = {chroma_stdev:.3f}')\n",
        "\n",
        "    # Check mel spectrogram feature values\n",
        "    features_df_melspectrogram = df.loc[:,12:139]\n",
        "    mel_min = features_df_melspectrogram.min().min()\n",
        "    mel_max = features_df_melspectrogram.max().max()\n",
        "    # stack all features into a single series so we don't get a mean of means or stdev of stdevs\n",
        "    mel_mean = features_df_melspectrogram.stack().mean()\n",
        "    mel_stdev = features_df_melspectrogram.stack().std()\n",
        "    print(f'\\n128 Mel Spectrogram features: \\\n",
        "    min = {mel_min:.3f}, \\\n",
        "    max = {mel_max:.3f}, \\\n",
        "    mean = {mel_mean:.3f}, \\\n",
        "    deviation = {mel_stdev:.3f}')\n",
        "\n",
        "    # Check MFCC feature values\n",
        "    features_df_mfcc = df.loc[:,140:179]\n",
        "    mfcc_min = features_df_mfcc.min().min()\n",
        "    mfcc_max = features_df_mfcc.max().max()\n",
        "    # stack all features into a single series so we don't get a mean of means or stdev of stdevs\n",
        "    mfcc_mean = features_df_mfcc.stack().mean()\n",
        "    mfcc_stdev = features_df_mfcc.stack().std()\n",
        "    print(f'\\n40 MFCC features:             \\\n",
        "    min = {mfcc_min:.3f},\\\n",
        "    max = {mfcc_max:.3f},\\\n",
        "    mean = {mfcc_mean:.3f},\\\n",
        "    deviation = {mfcc_stdev:.3f}')\n",
        "\n",
        "print_features(features_df_RAVDESS)\n",
        "\n",
        "#mel spectrogram 0-150 vs. chromagram 0-1 -> so it doesn't impact your model the same way. Model becomes more sensitive when it has larger values.\n",
        "#but in pre-processing steps, all features need to be treated equally -> model has to decide which one's more important (learning process)\n",
        "#make sure that your model treats all these values the same way. -> map all of these in similar range (scaling)"
      ]
    },
    {
      "cell_type": "markdown",
      "source": [
        "####My own recordings' **RAW** features"
      ],
      "metadata": {
        "id": "CACTg-Ojg9Jv"
      }
    },
    {
      "cell_type": "code",
      "source": [
        "print_features(features_df_mine)"
      ],
      "metadata": {
        "id": "odjZ6YRWagY8",
        "outputId": "734c60c9-3012-400c-ce10-415f44592c5d",
        "colab": {
          "base_uri": "https://localhost:8080/"
        }
      },
      "execution_count": 36,
      "outputs": [
        {
          "output_type": "stream",
          "name": "stdout",
          "text": [
            "12 Chromagram features:           min = 0.471,     max = 0.756,     mean = 0.599,     deviation = 0.059\n",
            "\n",
            "128 Mel Spectrogram features:     min = 0.000,     max = 104.035,     mean = 3.188,     deviation = 9.203\n",
            "\n",
            "40 MFCC features:                 min = -436.574,    max = 20.013,    mean = -10.178,    deviation = 57.889\n"
          ]
        }
      ]
    },
    {
      "cell_type": "markdown",
      "metadata": {
        "id": "gFgQlYSlL9hW"
      },
      "source": [
        "**There's an obvious imbalance in the variance our features; Our features indeed belong to very different distributions:** our MFC coefficients' deviation is greater than the other features by orders of magnitude. That does not mean MFC coefficients are the most important feature, but rather it is a property of the way they are computed.  We will certainly need to scale this feature set.\n",
        "\n",
        "We have the choice of sklearn's StandardScaler and MinMaxScaler. Standard scaling subtracts the mean of each feature and divides it by the standard deviation of that feature, producing features with mean at zero and unit variance - that is, a variance and standard deviation of 1. Min-Max scaling transforms each feature to be within a bounded interval that we specify.\n",
        "\n",
        "In practice, **MinMax scaling is especially useful when we know our features should be in a bounded interval**, such as pixel values in [0,255], while **standard scaling is perhaps more practical for features with unknown distributions** because centering the features at zero-mean with a standard deviation of 1 means extreme values will have less of an impact on the model's learned weights, i.e. the model is less sensitive to outliers.\n",
        "\n",
        "We'll create MinMax scaled features as well so we can give them a try later on to confirm that standard scaling is better in the absence of knowledge on the appropriate distribution for a dataset's features."
      ]
    },
    {
      "cell_type": "code",
      "execution_count": 37,
      "metadata": {
        "id": "_BCAYVEUL9hW"
      },
      "outputs": [],
      "source": [
        "from sklearn.preprocessing import StandardScaler #centre the data at 0 with unit variants (all values between -1 and 1).\n",
        "from sklearn.preprocessing import MinMaxScaler #rescale all values into defined intervals between between 0 and 1, no minus values.\n",
        "\n",
        "scaler = StandardScaler()\n",
        "# keep our unscaled features just in case we need to process them alternatively\n",
        "features_scaled = features #features from loaded data\n",
        "features_scaled = scaler.fit_transform(features_scaled)\n",
        "\n",
        "features_mine_scaled = features_mine #features from loaded data of my own recordings\n",
        "features_mine_scaled = scaler.fit_transform(features_mine_scaled)\n",
        "\n",
        "\n",
        "scaler = MinMaxScaler()\n",
        "# keep our unscaled features just in case we need to process them alternatively\n",
        "features_minmax = features\n",
        "features_minmax = scaler.fit_transform(features_minmax)\n",
        "\n",
        "features_mine_minmax = features_mine\n",
        "features_mine_minmax = scaler.fit_transform(features_mine_minmax)"
      ]
    },
    {
      "cell_type": "markdown",
      "metadata": {
        "id": "r4ATx5oNL9hX"
      },
      "source": [
        "Make sure our features are properly scaled:"
      ]
    },
    {
      "cell_type": "code",
      "execution_count": 38,
      "metadata": {
        "id": "mlRuHQkKL9hX",
        "outputId": "63e38560-5c7a-455a-d9e5-25b36b6f8987",
        "colab": {
          "base_uri": "https://localhost:8080/"
        }
      },
      "outputs": [
        {
          "output_type": "stream",
          "name": "stdout",
          "text": [
            "\u001b[1mStandard Scaling:\n",
            "\u001b[0m\n",
            "12 Chromagram features:           min = -3.896,     max = 4.367,     mean = -0.000,     deviation = 1.000\n",
            "\n",
            "128 Mel Spectrogram features:     min = -0.474,     max = 36.531,     mean = -0.000,     deviation = 1.000\n",
            "\n",
            "40 MFCC features:                 min = -4.803,    max = 6.238,    mean = 0.000,    deviation = 1.000\n",
            "\n",
            "\n",
            "\u001b[1mMinMax Scaling:\n",
            "\u001b[0m\n",
            "12 Chromagram features:           min = 0.000,     max = 1.000,     mean = 0.472,     deviation = 0.145\n",
            "\n",
            "128 Mel Spectrogram features:     min = 0.000,     max = 1.000,     mean = 0.015,     deviation = 0.061\n",
            "\n",
            "40 MFCC features:                 min = 0.000,    max = 1.000,    mean = 0.412,    deviation = 0.169\n"
          ]
        }
      ],
      "source": [
        "print('\\033[1m'+'Standard Scaling:\\n'+'\\033[0m')\n",
        "features_scaled_df = pd.DataFrame(features_scaled)\n",
        "print_features(features_scaled_df)\n",
        "\n",
        "print('\\n\\n\\033[1m'+'MinMax Scaling:\\n'+'\\033[0m')\n",
        "features_minmax_df = pd.DataFrame(features_minmax)\n",
        "print_features(features_minmax_df)\n",
        "\n",
        "#ASSIGNMENT: write about the changes and what happens to the data before and after the scaling of your trained model."
      ]
    },
    {
      "cell_type": "markdown",
      "source": [
        "####My own recordings' **SCALED** features"
      ],
      "metadata": {
        "id": "grgUM2ktgq8I"
      }
    },
    {
      "cell_type": "code",
      "source": [
        "print('\\033[1m'+'Standard Scaling:\\n'+'\\033[0m') #seeing if the features for my recording dataset have been properly scaled.\n",
        "features_mine_scaled_df = pd.DataFrame(features_mine_scaled)\n",
        "print_features(features_mine_scaled_df)\n",
        "\n",
        "print('\\n\\n\\033[1m'+'MinMax Scaling:\\n'+'\\033[0m')\n",
        "features_mine_minmax_df = pd.DataFrame(features_mine_minmax)\n",
        "print_features(features_mine_minmax_df)"
      ],
      "metadata": {
        "id": "1tw5v7wAcGuJ",
        "colab": {
          "base_uri": "https://localhost:8080/"
        },
        "outputId": "84ea0be6-5494-4d29-d641-5c6bf6e1e63d"
      },
      "execution_count": 39,
      "outputs": [
        {
          "output_type": "stream",
          "name": "stdout",
          "text": [
            "\u001b[1mStandard Scaling:\n",
            "\u001b[0m\n",
            "12 Chromagram features:           min = -2.214,     max = 2.261,     mean = -0.000,     deviation = 1.003\n",
            "\n",
            "128 Mel Spectrogram features:     min = -1.749,     max = 3.745,     mean = 0.000,     deviation = 1.000\n",
            "\n",
            "40 MFCC features:                 min = -2.631,    max = 2.810,    mean = -0.000,    deviation = 1.001\n",
            "\n",
            "\n",
            "\u001b[1mMinMax Scaling:\n",
            "\u001b[0m\n",
            "12 Chromagram features:           min = 0.000,     max = 1.000,     mean = 0.469,     deviation = 0.300\n",
            "\n",
            "128 Mel Spectrogram features:     min = 0.000,     max = 1.000,     mean = 0.231,     deviation = 0.302\n",
            "\n",
            "40 MFCC features:                 min = 0.000,    max = 1.000,    mean = 0.483,    deviation = 0.299\n"
          ]
        }
      ]
    },
    {
      "cell_type": "markdown",
      "metadata": {
        "id": "vZfzIh7DL9hX"
      },
      "source": [
        "Perfect. Zero mean and unit variance for standard scaling and in the range [0,1] for MinMax scaling - a default when we don't specify values. We can now move on to building predictive models for these features."
      ]
    },
    {
      "cell_type": "markdown",
      "metadata": {
        "id": "z5tXewLEL9hX"
      },
      "source": [
        "## Classical Machine Learning Models\n",
        "\n",
        "\n",
        "Classical machine learning models encompass a broad range of algorithms that have been foundational to the field's development and are still widely used for various predictive tasks. These models can be broadly categorized into supervised and unsupervised learning methods, each suited for different kinds of data and objectives.\n",
        "\n",
        "We will be looking into few popular Machine Learning Algorithms such as Support Vector Machine(SVM), K-Nearest Neighbors and Random Forest Classifier. There are many other classical models with their own strengths and weaknesses, and the choice of model depends on the specific requirements of the task, including the nature of the data, the complexity of the problem, and the computational efficiency required. Despite the rise of deep learning, classical machine learning models remain vital tools in a data scientist's arsenal due to their efficiency, interpretability, and strong performance in many scenarios.\n",
        "\n",
        "The use of classic machine learning method is due to the small size of our dataset; Some of the most robust models such as Support vector (machine) classifiers **(SVC) and k-Nearest-Neighbour classifiers (kNN) are particularly suited to smaller datasets and fall apart with huge datasets.**\n"
      ]
    },
    {
      "cell_type": "code",
      "source": [
        "# this classification task is one of supervised learning. All of these models are supervised learning model."
      ],
      "metadata": {
        "id": "30PNYB8Gn7zl"
      },
      "execution_count": null,
      "outputs": []
    },
    {
      "cell_type": "markdown",
      "metadata": {
        "id": "jwU-jXSGL9hY"
      },
      "source": [
        "### Training: The 80/20 Split and Validation\n",
        "In order to compare models, we'll have to evaluate their performance. The simplest method to do so is to train a model on a portion of our dataset and test it on the remainder. We'll use sklearn's train_test_split to create a standard 80/20 train/test split. The model is fit on 80% of\n",
        "the data and tested for performance against 20% of the data, which it has never seen in training - also called the hold-out set.\n",
        " <img src=\"https://github.com/IAT-ExploringAI-2024/Week3-Machine_Learning/blob/main/images/Capture2.PNG?raw=true\" width=\"800\">\n",
        "\n",
        "More accurately, the proper modality for training and scoring a model is to\n",
        "1. Fit/train our model on a _training_ set,\n",
        "2. Evaluate the model on a _validation_ set to tune the hyperparameters for better performance,\n",
        "3. Finally score our model's true performance - its **generalizability** - against a _test_ set, aka the hold-out set.\n",
        "4. Repeat from 2. **Do not tune the model to score well on the test set**. Only evaluate on test-set once.\n",
        "\n",
        "Different set ratios are used in this approach - a usual example is 60/20/20 train/validation/test.For simplicity, we're going to start with an 80/20 train/test split. The model will be trained on all the training data, and we will check its performance on the test data. We'll skip validation for now.\n",
        "\n",
        " <img src=\"https://github.com/IAT-ExploringAI-2024/Week3-ClassicML/blob/main/images/traintestsplit.PNG?raw=true\" width=\"800\">\n",
        "\n",
        "Define unscaled and scaled training and test sets:"
      ]
    },
    {
      "cell_type": "code",
      "source": [
        "#splitting: training set & test set\n",
        "#in this classical model, we don't need validation set (we don't need to tune hyperparameters - some parameters that aren't determined, learned thru learning process)\n",
        "#for this week, we only need one training set and one test set.\n",
        "#80/20 train/test split.\n",
        "\n",
        "#if you have duplicate values, remove them before dividing into training and test sets.\n",
        "#possibility that duplicate values would be in your test set.\n",
        "\n",
        "#for a given test set, we want to break features & labels (labels have meanings only when mapped to feature set) together"
      ],
      "metadata": {
        "id": "vkszGFzaoQGZ"
      },
      "execution_count": null,
      "outputs": []
    },
    {
      "cell_type": "code",
      "execution_count": 40,
      "metadata": {
        "id": "8jGN4ROVL9hY"
      },
      "outputs": [],
      "source": [
        "from sklearn.model_selection import train_test_split\n",
        "#these are the same codes, but we are just using different data.\n",
        "\n",
        "\n",
        "############# Unscaled test/train set #############\n",
        "X_train, X_test, y_train, y_test = train_test_split(\n",
        "    features, #feature set\n",
        "    emotions, #label set\n",
        "    test_size=0.2,\n",
        "    random_state=42 #random_state - everytime you run this code, it will give you the same split. If you change it, it will give you a different split. actually shuffle data based on random number.\n",
        ")\n",
        "\n",
        "############ Standard Scaled test/train set ###########\n",
        "# The labels/classes (y_train, y_test) never change, keep old values\n",
        "X_train_scaled, X_test_scaled, _, _ = train_test_split(\n",
        "    features_scaled,\n",
        "    emotions,\n",
        "    test_size=0.2,\n",
        "    random_state=42\n",
        ")\n",
        "\n",
        "############# MinMax Scaled test/train set ###############\n",
        "# The labels/classes (y_train, y_test) never change, keep old values\n",
        "X_train_minmax, X_test_minmax, _, _ = train_test_split(\n",
        "    features_minmax,\n",
        "    emotions,\n",
        "    test_size=0.2,\n",
        "    random_state=42\n",
        ")\n"
      ]
    },
    {
      "cell_type": "markdown",
      "metadata": {
        "id": "Q3Mh0RrEL9hY"
      },
      "source": [
        "### Comparing Models\n",
        "We'll try each off-the-shelf machine learning model from sklearn and pick a few to explore, since these models will train near instantly on this dataset."
      ]
    },
    {
      "cell_type": "code",
      "execution_count": 48,
      "metadata": {
        "scrolled": true,
        "id": "iLPeyR7vL9he",
        "outputId": "19da5af5-7c1f-4276-ec85-6650768260d0",
        "colab": {
          "base_uri": "https://localhost:8080/",
          "height": 300
        }
      },
      "outputs": [
        {
          "output_type": "execute_result",
          "data": {
            "text/plain": [
              "                      Classifier Accuracy Score My Accuracy Score\n",
              "0           KNeighborsClassifier         55.90%            25.00%\n",
              "4         RandomForestClassifier         55.21%            37.50%\n",
              "2                 SVC RBF kernel         50.35%            25.00%\n",
              "1                            SVC         49.65%            31.25%\n",
              "3         DecisionTreeClassifier         34.03%            31.25%\n",
              "5             AdaBoostClassifier         30.21%            31.25%\n",
              "6                     GaussianNB         30.21%            25.00%\n",
              "7  QuadraticDiscriminantAnalysis         24.31%            25.00%"
            ],
            "text/html": [
              "<div>\n",
              "<style scoped>\n",
              "    .dataframe tbody tr th:only-of-type {\n",
              "        vertical-align: middle;\n",
              "    }\n",
              "\n",
              "    .dataframe tbody tr th {\n",
              "        vertical-align: top;\n",
              "    }\n",
              "\n",
              "    .dataframe thead th {\n",
              "        text-align: right;\n",
              "    }\n",
              "</style>\n",
              "<table border=\"1\" class=\"dataframe\">\n",
              "  <thead>\n",
              "    <tr style=\"text-align: right;\">\n",
              "      <th></th>\n",
              "      <th>Classifier</th>\n",
              "      <th>Accuracy Score</th>\n",
              "      <th>My Accuracy Score</th>\n",
              "    </tr>\n",
              "  </thead>\n",
              "  <tbody>\n",
              "    <tr>\n",
              "      <th>0</th>\n",
              "      <td>KNeighborsClassifier</td>\n",
              "      <td>55.90%</td>\n",
              "      <td>25.00%</td>\n",
              "    </tr>\n",
              "    <tr>\n",
              "      <th>4</th>\n",
              "      <td>RandomForestClassifier</td>\n",
              "      <td>55.21%</td>\n",
              "      <td>37.50%</td>\n",
              "    </tr>\n",
              "    <tr>\n",
              "      <th>2</th>\n",
              "      <td>SVC RBF kernel</td>\n",
              "      <td>50.35%</td>\n",
              "      <td>25.00%</td>\n",
              "    </tr>\n",
              "    <tr>\n",
              "      <th>1</th>\n",
              "      <td>SVC</td>\n",
              "      <td>49.65%</td>\n",
              "      <td>31.25%</td>\n",
              "    </tr>\n",
              "    <tr>\n",
              "      <th>3</th>\n",
              "      <td>DecisionTreeClassifier</td>\n",
              "      <td>34.03%</td>\n",
              "      <td>31.25%</td>\n",
              "    </tr>\n",
              "    <tr>\n",
              "      <th>5</th>\n",
              "      <td>AdaBoostClassifier</td>\n",
              "      <td>30.21%</td>\n",
              "      <td>31.25%</td>\n",
              "    </tr>\n",
              "    <tr>\n",
              "      <th>6</th>\n",
              "      <td>GaussianNB</td>\n",
              "      <td>30.21%</td>\n",
              "      <td>25.00%</td>\n",
              "    </tr>\n",
              "    <tr>\n",
              "      <th>7</th>\n",
              "      <td>QuadraticDiscriminantAnalysis</td>\n",
              "      <td>24.31%</td>\n",
              "      <td>25.00%</td>\n",
              "    </tr>\n",
              "  </tbody>\n",
              "</table>\n",
              "</div>"
            ]
          },
          "metadata": {},
          "execution_count": 48
        }
      ],
      "source": [
        "from sklearn.neighbors import KNeighborsClassifier\n",
        "from sklearn.svm import SVC\n",
        "from sklearn.tree import DecisionTreeClassifier\n",
        "from sklearn.ensemble import RandomForestClassifier, AdaBoostClassifier\n",
        "from sklearn.naive_bayes import GaussianNB\n",
        "from sklearn.discriminant_analysis import QuadraticDiscriminantAnalysis\n",
        "\n",
        "classification_models = [   #list of classifiers\n",
        "    KNeighborsClassifier(),#(3),\n",
        "    SVC(kernel='linear'),#, C=0.025),\n",
        "    SVC(kernel='rbf'),\n",
        "    DecisionTreeClassifier(),#max_depth=5),\n",
        "    RandomForestClassifier(),#max_depth=5, n_estimators=10, max_features=1),\n",
        "    AdaBoostClassifier(),\n",
        "    GaussianNB(),\n",
        "    QuadraticDiscriminantAnalysis()]\n",
        "\n",
        "scores = []\n",
        "for model in classification_models:               #for loop to train all classifiers\n",
        "    model.fit(X_train_scaled, y_train)            #sklearn gives .fit function; fit=train with features & labels #!!!ASSIGNMENT!!! Try not only X_train_scaled but also raw, and mid max scaled features\n",
        "    score = model.score(X_test_scaled, y_test)    #test your model on the same data (i.e. use X_test_scaled if used it previously); your train & test need to separated, but it needs to come from the same distribution.\n",
        "    score_mine = model.score(features_mine_scaled, emotions_mine)\n",
        "    model_name = type(model).__name__             #model.score; fit=train, score=evaluate. For score, use test set. Then append the name for a pretty label.\n",
        "    if model_name=='SVC' and model.kernel=='rbf': model_name+=' RBF kernel'\n",
        "    scores.append((model_name,(f'{100*score:.2f}%'),(f'{100*score_mine:.2f}%')))\n",
        "\n",
        "# Make it pretty\n",
        "scores_df = pd.DataFrame(scores,columns=['Classifier','Accuracy Score', 'My Accuracy Score'])\n",
        "scores_df.sort_values(by='Accuracy Score',axis=0,ascending=False)\n",
        "\n"
      ]
    },
    {
      "cell_type": "code",
      "source": [
        "#Accuracy = how many of these classifications were performed correctly.\n",
        "#When your model's scoring, it's not considering labels (y_test).\n",
        "#It's just seeing what your model will predict (X_test_scaled) for this test data X_text_scaled -> then compare the predicted results (X_test_scaled) with the actual restuls (y_test)\n",
        "#Then gives you final score.\n",
        "#e.g. 55.9% = random forest classifier is perfoming better than rest of the models, 55.9% correct about predicting emotions in the test data.\n",
        "#if you're giving scaled features (X_test_scaled) of an input audio, it's 56% likely to predict emotion class correctly, if it's similar to the training data.\n",
        "#our training data's very limited, we're only using 2 sentences for the entire dataset, only 24 actors.\n",
        "#so we are not expecting state-of-art emotion recognition. Something we expected.\n",
        "#if we give real-world data -> it's even likely to be correct.\n",
        "#if your test is similar to training data, then it's 56% accurate.\n",
        "#50% SVC RBF kernel...and so on.\n",
        "\n",
        "#ASSIGNMENT: run this code, copy this code -> and see what happens if you are not using the scaled version?"
      ],
      "metadata": {
        "id": "zrNPogagt8zz"
      },
      "execution_count": null,
      "outputs": []
    },
    {
      "cell_type": "code",
      "source": [
        "from sklearn.neighbors import KNeighborsClassifier\n",
        "from sklearn.svm import SVC\n",
        "from sklearn.tree import DecisionTreeClassifier\n",
        "from sklearn.ensemble import RandomForestClassifier, AdaBoostClassifier\n",
        "from sklearn.naive_bayes import GaussianNB\n",
        "from sklearn.discriminant_analysis import QuadraticDiscriminantAnalysis\n",
        "\n",
        "classification_models = [   #list of classifiers\n",
        "    KNeighborsClassifier(),#(3),\n",
        "    SVC(kernel='linear'),#, C=0.025),\n",
        "    SVC(kernel='rbf'),\n",
        "    DecisionTreeClassifier(),#max_depth=5),\n",
        "    RandomForestClassifier(),#max_depth=5, n_estimators=10, max_features=1),\n",
        "    AdaBoostClassifier(),\n",
        "    GaussianNB(),\n",
        "    QuadraticDiscriminantAnalysis()]\n",
        "\n",
        "scores = []\n",
        "for model in classification_models:               #for loop to train all classifiers\n",
        "    model.fit(X_train, y_train)            #ASSIGNMENT: JUST CHANGE to X_train. Then repeat this w/ midmax.\n",
        "    score = model.score(X_test, y_test)    #ASSIGNMENT: JUST CHANGE to X_test. Then repeat this w/ midmax.\n",
        "    model_name = type(model).__name__             #model.score; fit=train, score=evaluate. For score, use test set. Then append the name for a pretty label.\n",
        "    if model_name=='SVC' and model.kernel=='rbf': model_name+=' RBF kernel'\n",
        "    scores.append((model_name,(f'{100*score:.2f}%')))\n",
        "# Make it pretty\n",
        "scores_df = pd.DataFrame(scores,columns=['Classifier','Accuracy Score'])\n",
        "scores_df.sort_values(by='Accuracy Score',axis=0,ascending=False)"
      ],
      "metadata": {
        "colab": {
          "base_uri": "https://localhost:8080/",
          "height": 300
        },
        "id": "WpnG-Rs2vVcR",
        "outputId": "7cd5b176-abb8-4c28-e128-b1e9a345ca5d"
      },
      "execution_count": null,
      "outputs": [
        {
          "output_type": "execute_result",
          "data": {
            "text/plain": [
              "                      Classifier Accuracy Score\n",
              "4         RandomForestClassifier         57.99%\n",
              "0           KNeighborsClassifier         51.39%\n",
              "1                            SVC         46.53%\n",
              "3         DecisionTreeClassifier         35.42%\n",
              "6                     GaussianNB         33.33%\n",
              "5             AdaBoostClassifier         30.21%\n",
              "2                 SVC RBF kernel         29.86%\n",
              "7  QuadraticDiscriminantAnalysis         26.39%"
            ],
            "text/html": [
              "<div>\n",
              "<style scoped>\n",
              "    .dataframe tbody tr th:only-of-type {\n",
              "        vertical-align: middle;\n",
              "    }\n",
              "\n",
              "    .dataframe tbody tr th {\n",
              "        vertical-align: top;\n",
              "    }\n",
              "\n",
              "    .dataframe thead th {\n",
              "        text-align: right;\n",
              "    }\n",
              "</style>\n",
              "<table border=\"1\" class=\"dataframe\">\n",
              "  <thead>\n",
              "    <tr style=\"text-align: right;\">\n",
              "      <th></th>\n",
              "      <th>Classifier</th>\n",
              "      <th>Accuracy Score</th>\n",
              "    </tr>\n",
              "  </thead>\n",
              "  <tbody>\n",
              "    <tr>\n",
              "      <th>4</th>\n",
              "      <td>RandomForestClassifier</td>\n",
              "      <td>57.99%</td>\n",
              "    </tr>\n",
              "    <tr>\n",
              "      <th>0</th>\n",
              "      <td>KNeighborsClassifier</td>\n",
              "      <td>51.39%</td>\n",
              "    </tr>\n",
              "    <tr>\n",
              "      <th>1</th>\n",
              "      <td>SVC</td>\n",
              "      <td>46.53%</td>\n",
              "    </tr>\n",
              "    <tr>\n",
              "      <th>3</th>\n",
              "      <td>DecisionTreeClassifier</td>\n",
              "      <td>35.42%</td>\n",
              "    </tr>\n",
              "    <tr>\n",
              "      <th>6</th>\n",
              "      <td>GaussianNB</td>\n",
              "      <td>33.33%</td>\n",
              "    </tr>\n",
              "    <tr>\n",
              "      <th>5</th>\n",
              "      <td>AdaBoostClassifier</td>\n",
              "      <td>30.21%</td>\n",
              "    </tr>\n",
              "    <tr>\n",
              "      <th>2</th>\n",
              "      <td>SVC RBF kernel</td>\n",
              "      <td>29.86%</td>\n",
              "    </tr>\n",
              "    <tr>\n",
              "      <th>7</th>\n",
              "      <td>QuadraticDiscriminantAnalysis</td>\n",
              "      <td>26.39%</td>\n",
              "    </tr>\n",
              "  </tbody>\n",
              "</table>\n",
              "</div>"
            ]
          },
          "metadata": {},
          "execution_count": 30
        }
      ]
    },
    {
      "cell_type": "code",
      "source": [
        "#does mid-max scaling improve your perf? Or worse?\n",
        "#or maybe it doesn't have any effect. With classifiers w/ raw features are performing better -> conclude that differences in scaling are actually meaningful in data\n",
        "#maybe performing scaling was a mistake maybe?"
      ],
      "metadata": {
        "id": "02QjqUlgvz7C"
      },
      "execution_count": null,
      "outputs": []
    },
    {
      "cell_type": "markdown",
      "metadata": {
        "id": "JrD98CpPL9he"
      },
      "source": [
        "Let's pick the top three - Random Forests, SVC, and kNN - and take a closer look at each of them."
      ]
    },
    {
      "cell_type": "markdown",
      "metadata": {
        "id": "4dBNoEolL9hf"
      },
      "source": [
        "### The Support Vector Machine Classifier\n",
        "\n",
        "We'll go in chronological order. First is the support vector machine classifier (SVC) - a model from the 60s. SVMs are models quick to train for this task and best suited to small datasets due to its quadratic time complexity w.r.t. size of the training dataset (# of training samples). This is also the reason it breaks down with larger datasets since it becomes very expensive to train.\n",
        "\n",
        "The idea behind SVMs on which the SVC model is based is to find a separating hyperplane - a subspace with dimension one less than that of the feature space - for points in our feature space; i.e. for a 3D space, a hyperplane is a regular plane, in 2D, a line. This idea extends to n dimensions. If points are separable by a hyperplane, they are said to be linearly separable. **Since there are infinite possible separating hyperplanes for any linearly separable feature space, an SVM computes which points are closest to each such hyperplane and uses them to construct a _support vector_. The SVM picks the hyperplane which maximizes the distance - _margin_ - to each support vector.** In this way, we maximize the separating ability of the chosen hyperplane.\n",
        "\n",
        "The core of SVMs is the kernel. We could map all new points from our input space, where they were not separable by a hyperplane, to a higher dimension in which we have found a hyperplane to separate the points in that space. However, that would be extremely computationally expensive for data that needs to be mapped to much higher dimensions. Instead, we **compute the hyperplane in the higher dimension on our training data and map the hyperplane back to the lower-dimension input space to use for classifying our data. This is the _kernel trick_, whereby the kernel (function) enables us to compute distances to new points in the input space without transforming each to the higher dimensional space - drastically reducing the computational complexity of the SVM.**\n",
        "\n",
        " <img src=\"https://github.com/IAT-ExploringAI-2024/Week3-Machine_Learning/blob/main/images/kernel1.png?raw=true\" width=\"800\">\n",
        "\n",
        " ![25_09_28__12_18🗝.png](data:image/png;base64,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)"
      ]
    },
    {
      "cell_type": "code",
      "source": [
        "#find the optimal separating hyperplane between classes.\n",
        "#when the data's not linearly separable, SVM uses 'kernel trick'\n",
        "#it projects the data in higher dimensions where it becomes separable\n",
        "#you had 180 columns in this dataset -> so in this image, there's 2 dimension, so you'd have 180 features, with 180 default dimensions. Very difficult to visualize.\n",
        "#in 2 dimensional space, you need to use a circle to separate the data. You can't use one line to separate class purple and class yellow.\n",
        "#SVM takes it to hyper plane -> it will increase your data dimension, add & expand your data into a vector space, larger than original.\n",
        "#in that space, you can put one plane (in this 3 dimensional space, plane is called 'linear classifier', like line but in 3D)\n",
        "#so in this space, your class yellow & purple can be easily separable by one hyperplane.\n",
        "#hyperplane comes back to original dimension -> and becomes a circle -> this is a trick that SVM does."
      ],
      "metadata": {
        "id": "miAzWDJcwrOH"
      },
      "execution_count": null,
      "outputs": []
    },
    {
      "cell_type": "markdown",
      "metadata": {
        "id": "r-VTE6HjL9hf"
      },
      "source": [
        "A linear kernel should always be tested because **a linear kernel is much faster to train than a non-linear kernel**; however, properly tuned, a non-linear kernel often provides the best possible predictive performance. **RBF (radial basis function) is a good default to use for a non-linear kernel** and often is the best non-linear kernel because it usually provides a higher accuracy compared to other non-linear kernels at the cost of higher computational complexity. We can afford to try the RBF kernel because our dataset is small.\n",
        "\n",
        "If you want to explore further please have a look at [this article](https://www.analyticsvidhya.com/blog/2021/10/support-vector-machinessvm-a-complete-guide-for-beginners/)"
      ]
    },
    {
      "cell_type": "code",
      "execution_count": null,
      "metadata": {
        "id": "ruBbt50ML9hf",
        "outputId": "9bd5b27f-342b-411f-b73e-c9a1081de1ab",
        "colab": {
          "base_uri": "https://localhost:8080/"
        }
      },
      "outputs": [
        {
          "output_type": "stream",
          "name": "stdout",
          "text": [
            "SVC Model's accuracy on training set is 99.74%\n",
            "SVC Model's accuracy on test set is 54.51%\n"
          ]
        }
      ],
      "source": [
        "from sklearn.svm import SVC\n",
        "\n",
        "model = SVC(\n",
        "    C=10,  #higher the value tighter the margin\n",
        "    gamma='auto',\n",
        "    kernel='rbf',\n",
        "    random_state=42\n",
        ")\n",
        "\n",
        "model.fit(X_train, y_train)\n",
        "\n",
        "print(f'SVC Model\\'s accuracy on training set is {100*model.score(X_train, y_train):.2f}%')\n",
        "print(f'SVC Model\\'s accuracy on test set is {100*model.score(X_test, y_test):.2f}%')"
      ]
    },
    {
      "cell_type": "code",
      "source": [
        "#accuracy on your training and test data\n",
        "#it gives you almost perfect distinction between all of your 8 classes for this classification task for RAVDESS data.\n",
        "#but for your test set, you're still getting 54%."
      ],
      "metadata": {
        "id": "bdYfwcg6y7_I"
      },
      "execution_count": null,
      "outputs": []
    },
    {
      "cell_type": "markdown",
      "metadata": {
        "id": "PIm1a-tiL9hg"
      },
      "source": [
        "Not bad at all for the relatively simple SVC model. **Hyperparameter 𝐶 regulates the margin.** It might do well to optimize the SVC model further if we don't find a better one. As it stands, we are looking for considerably higher performance in this task.\n",
        "\n",
        "Check out [this link](https://towardsdatascience.com/visualizing-the-effect-of-hyperparameters-on-support-vector-machines-b9eef6f7357b) for visual representation of affect of changes in C and gamma."
      ]
    },
    {
      "cell_type": "markdown",
      "metadata": {
        "id": "j72LJRfCL9hg"
      },
      "source": [
        "### k Nearest Neighbours\n",
        "\n",
        "k Nearest Neighbours (kNN) is next in line, a tried-and-true machine learning method from the 70s. kNN makes a lot of intuitive sense: imagine plotting points on a graph and drawing gates around points that look like they belong to the same group. That's what it is - we **plot our training samples' features and compare a test sample's features' distance to all those points; then just take the _k_ closest points to the test sample and pick the most frequent label/class.** That's it.\n",
        "\n",
        "kNN is a great starting point for multiclass problems with small datasets, although on large dadtasets less reliable and extremely memory hungry (it stores all training sample points). kNN is also useful in that it makes **no assumptions about the underlying distribution of the data set - so kNNs work well for both linear and non-linear data.** In the 2D example:\n",
        "\n",
        "<img src=\"https://github.com/IAT-ExploringAI-2024/Week3-ClassicML/blob/main/images/knn.png?raw=true\" width=400 height=400 />"
      ]
    },
    {
      "cell_type": "code",
      "source": [
        "#more latent than SVM\n",
        "#algo is as intuitive as it gets\n",
        "#imagine plotting all of your data pts in graph, assuming 2 dimensional space.\n",
        "#but for your data, it's higher dimension.\n",
        "\n",
        "#k stands for 'how many'\n",
        "#if you set k=3, then you get 2 class 'green', and 1 'red'.\n",
        "#kNN algo will set this to 'green'.\n",
        "#gives you an estimate based on majority voting\n",
        "\n",
        "#which k is correct - you don't know until you see the result, until you have the actual label."
      ],
      "metadata": {
        "id": "Cgeemr-SzOv1"
      },
      "execution_count": null,
      "outputs": []
    },
    {
      "cell_type": "code",
      "execution_count": null,
      "metadata": {
        "id": "qaeCneMiL9hg",
        "outputId": "acc870ad-1669-4e56-d7f5-52c5ea191177",
        "colab": {
          "base_uri": "https://localhost:8080/"
        }
      },
      "outputs": [
        {
          "output_type": "stream",
          "name": "stdout",
          "text": [
            "Default kNN Model's accuracy on training set is 64.47%\n",
            "Default kNN Model's accuracy on test set is 51.39%\n",
            "\n",
            "kNN Model's accuracy on training set is 99.74%\n",
            "kNN Model's accuracy on test set is 54.86%\n"
          ]
        }
      ],
      "source": [
        "from sklearn.neighbors import KNeighborsClassifier\n",
        "\n",
        "####### Default kNN  ########\n",
        "model = KNeighborsClassifier(\n",
        ")\n",
        "\n",
        "model.fit(X_train, y_train)    #default number's in the documentation. Assuming 2?\n",
        "\n",
        "print(f'Default kNN Model\\'s accuracy on training set is {100*model.score(X_train, y_train):.2f}%') #there's still room for further training.\n",
        "print(f'Default kNN Model\\'s accuracy on test set is {100*model.score(X_test, y_test):.2f}%\\n')\n",
        "\n",
        "##### (hastily) tuned kNN ######\n",
        "model = KNeighborsClassifier(\n",
        "    n_neighbors = 5,      #this is one of hyperparameters. Your model can learn what the correct # for k. What's giving the best result?\n",
        "    weights = 'distance',\n",
        "    algorithm = 'brute',\n",
        "    n_jobs=4\n",
        ")\n",
        "\n",
        "model.fit(X_train, y_train)\n",
        "\n",
        "print(f'kNN Model\\'s accuracy on training set is {100*model.score(X_train, y_train):.2f}%') #the model's at max capacity.\n",
        "print(f'kNN Model\\'s accuracy on test set is {100*model.score(X_test, y_test):.2f}%') #test result's been improved by 3%"
      ]
    },
    {
      "cell_type": "markdown",
      "metadata": {
        "id": "BxVEKUyiL9hh"
      },
      "source": [
        "**The brute-force algorithm computes distances between all pairs of points in the training set; works especially well for small datasets** but wildly inefficient w.r.t. increasing samples and feature space dimension. Not bad for 2 minutes of work, but still not suitable for this task."
      ]
    },
    {
      "cell_type": "markdown",
      "metadata": {
        "id": "zvQ3av4cL9hh"
      },
      "source": [
        "### Random Forests\n",
        "Finally, and before resorting to deep learning methods, let's try a Random Forest -  a model from the 21st century (2001). **We train many distinct decision trees which are essentially directed acyclic graphs (DAGs), somewhat similar to a flow chart. The collection of (decision) trees makes up our Random Forest.**\n",
        "\n",
        "At each node of the tree we have a function (a rule) that evaluates whether the features of samples input to that node belong to one class or another. Each branch of the tree (or, edge of the graph) defines one of two possible results from a node, and each leaf is one of two decisions made by its parent node. **Each tree in the forest evaluates a random subset of the training samples' features and has a rule at each level of the tree that classifies based on these random features - hence, _Random_ Forest. This random selection of features makes Random Forests robust to outliers**, as such features will have less of an impact in the scope of the entire forest, most of whose trees operate on the \"real\" features.\n",
        "\n",
        "**Random Forests are excellent models to use as a benchmark due to their low time complexity to train and because it is an ensemble method, their robustness to unknown distributions and outliers in the dataset,** meaning Random Forests require relatively little exploratory analysis in both the data and training the model to get an idea of their performance in a task.\n",
        "\n",
        "<img src=\"https://github.com/IliaZenkov/sklearn-audio-classification/blob/master/img/randomforest.png?raw=true\" width=500 height=500 />"
      ]
    },
    {
      "cell_type": "code",
      "source": [
        "#leaf = when you end up with only one class in one node. All of the data pts in that class are in class 'happy'.\n",
        "#all of the data pts in the other leaf is 'angry'\n",
        "#one decision tree on its own is relatively strong at classifier.\n",
        "#one decision forest = putting together a num of trees -> and that num is also another hyperparameter\n",
        "#by majority tree of those num of trees -> decide the class for a given data pt."
      ],
      "metadata": {
        "id": "pdo5cgzP2LtM"
      },
      "execution_count": null,
      "outputs": []
    },
    {
      "cell_type": "code",
      "execution_count": null,
      "metadata": {
        "id": "j9BWmcV9L9hh",
        "outputId": "dd6465c4-fc2a-4ab6-93be-0a28724627f2",
        "colab": {
          "base_uri": "https://localhost:8080/"
        }
      },
      "outputs": [
        {
          "output_type": "stream",
          "name": "stdout",
          "text": [
            "Default Random Forest Model's accuracy on training set is 100.00%\n",
            "Default Random Forest Model's accuracy on test set is 58.33%\n",
            "\n",
            "Random Forest Model's accuracy on training set is 100.00%\n",
            "Random Forest Model's accuracy on test set is 58.68%\n"
          ]
        }
      ],
      "source": [
        "from sklearn.ensemble import RandomForestClassifier\n",
        "\n",
        "####### Default Random Forest ########\n",
        "model = RandomForestClassifier(\n",
        "    random_state=69\n",
        ")\n",
        "\n",
        "model.fit(X_train, y_train)       #default n_estimators = 100\n",
        "\n",
        "print(f'Default Random Forest Model\\'s accuracy on training set is {100*model.score(X_train, y_train):.2f}%')\n",
        "print(f'Default Random Forest Model\\'s accuracy on test set is {100*model.score(X_test, y_test):.2f}%\\n')\n",
        "\n",
        "\n",
        "########## Tuned Random Forest #######\n",
        "model = RandomForestClassifier(\n",
        "    n_estimators = 500,       #num of trees\n",
        "    criterion ='entropy',\n",
        "    warm_start = True,\n",
        "    max_features = 'sqrt',\n",
        "    oob_score = True, # more on this below\n",
        "    random_state=42\n",
        ")\n",
        "\n",
        "model.fit(X_train, y_train)\n",
        "\n",
        "print(f'Random Forest Model\\'s accuracy on training set is {100*model.score(X_train, y_train):.2f}%')\n",
        "print(f'Random Forest Model\\'s accuracy on test set is {100*model.score(X_test, y_test):.2f}%') #improved, not overfitted surprisingly."
      ]
    },
    {
      "cell_type": "markdown",
      "metadata": {
        "id": "vM9-k8KLL9hi"
      },
      "source": [
        "Not bad for zero effort put into the default model. **Random Forests make a good benchmark model**, especially when strapped for time.\n",
        "\n",
        "**_Max features_ defines size of random feature subset decided upon at each node; sqrt(#features) is a good default for classification.**\n",
        "\n",
        "**_Gini_ and _Entropy_ are functions computing quality of classified samples within each node; they almost always provide similar performance but Entropy is more suited to classification while Gini is better for continuous variables.**\n"
      ]
    },
    {
      "cell_type": "markdown",
      "metadata": {
        "id": "DnhnxuGXL9hi"
      },
      "source": [
        "\n",
        "As wonderful as Random Forests are, it's clear that we're going to need to pull out bigger guns if we want to get appreciable performance on this dataset, perhaps even with good generalizability on test data. DNNs(Deep Neural Networks) are the next step-up in complexity from classical machine learning models, and we will start at the first rung on that ladder:Simple Perceptron in next lab!"
      ]
    }
  ],
  "metadata": {
    "kernelspec": {
      "display_name": "PyCharm (Speech Classifier)",
      "language": "python",
      "name": "pycharm-6a34225"
    },
    "language_info": {
      "codemirror_mode": {
        "name": "ipython",
        "version": 3
      },
      "file_extension": ".py",
      "mimetype": "text/x-python",
      "name": "python",
      "nbconvert_exporter": "python",
      "pygments_lexer": "ipython3",
      "version": "3.8.3"
    },
    "colab": {
      "provenance": [],
      "include_colab_link": true
    }
  },
  "nbformat": 4,
  "nbformat_minor": 0
}